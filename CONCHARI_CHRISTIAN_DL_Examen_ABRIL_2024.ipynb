{
  "cells": [
    {
      "cell_type": "markdown",
      "metadata": {
        "id": "F8Ks0fdpWaRc"
      },
      "source": [
        "# TP2 - Aprendizaje Profundo: Solución\n",
        "\n",
        "## Nombre: Christian Ricardo Conchari Cabrera\n",
        "## Cohorte: 15Co2024"
      ]
    },
    {
      "cell_type": "markdown",
      "metadata": {
        "id": "C54zn0aqWjtb"
      },
      "source": [
        "# Importación de librerias"
      ]
    },
    {
      "cell_type": "code",
      "execution_count": 159,
      "metadata": {
        "id": "1mqOTyMrWGUW"
      },
      "outputs": [],
      "source": [
        "import matplotlib.pyplot as plt\n",
        "import numpy as np\n",
        "import pandas as pd\n",
        "import seaborn as sns\n",
        "import torch\n",
        "import os\n",
        "from tqdm import tqdm\n",
        "\n",
        "import torchvision\n",
        "import torchvision.transforms as transforms\n",
        "from torch.utils.data import Dataset, DataLoader\n",
        "from torchsummary import summary\n",
        "from sklearn.metrics import precision_score, recall_score, f1_score, confusion_matrix\n",
        "from sklearn.metrics import classification_report"
      ]
    },
    {
      "cell_type": "markdown",
      "metadata": {},
      "source": [
        "Verificar la disponibilidad de cuda"
      ]
    },
    {
      "cell_type": "code",
      "execution_count": 96,
      "metadata": {},
      "outputs": [],
      "source": [
        "device = torch.device('cuda' if torch.cuda.is_available() else 'cpu')"
      ]
    },
    {
      "cell_type": "markdown",
      "metadata": {
        "id": "Gbx5n5eLYCRV"
      },
      "source": [
        "# Generación del dataset"
      ]
    },
    {
      "cell_type": "markdown",
      "metadata": {
        "id": "mnwUz_vEZROl"
      },
      "source": [
        "Se define un dataset que solamente contenga las clases seleccionadas."
      ]
    },
    {
      "cell_type": "code",
      "execution_count": 97,
      "metadata": {
        "id": "CFBX5v37ZKui"
      },
      "outputs": [],
      "source": [
        "class FilteredDataset(Dataset):\n",
        "  def __init__(self, original_dataset, selected_labels):\n",
        "    \"\"\"\n",
        "    Initialize the FilteredDataset with the original dataset and selected labels.\n",
        "\n",
        "    Parameters:\n",
        "    - original_dataset: The original dataset.\n",
        "    - selected_labels: A list of labels to filter the dataset.\n",
        "    \"\"\"\n",
        "    # Store the original dataset and selected labels\n",
        "    self.original_dataset = original_dataset\n",
        "    self.selected_labels = selected_labels\n",
        "\n",
        "    # Create a dictionary to remap selected labels to ascending indices\n",
        "    self.label_map = {label: idx for idx, label in enumerate(selected_labels)}\n",
        "\n",
        "    # Filter the indices of the images that belong to the selected classes\n",
        "    self.indices = [i for i, label in enumerate(original_dataset.targets) if label in selected_labels]\n",
        "\n",
        "  def __len__(self):\n",
        "    \"\"\"\n",
        "    Get the length of the filtered dataset.\n",
        "\n",
        "    Returns:\n",
        "    - The length of the filtered dataset.\n",
        "    \"\"\"\n",
        "    # Return the length of the filtered dataset\n",
        "    return len(self.indices)\n",
        "\n",
        "  def __getitem__(self, idx):\n",
        "    \"\"\"\n",
        "    Get an item from the filtered dataset.\n",
        "\n",
        "    Parameters:\n",
        "    - idx: The index of the item to retrieve.\n",
        "\n",
        "    Returns:\n",
        "    - A tuple containing the image and the remapped label.\n",
        "    \"\"\"\n",
        "    # Get the index of the original dataset\n",
        "    original_idx = self.indices[idx]\n",
        "\n",
        "    # Get the corresponding image and label from the original dataset\n",
        "    image, label = self.original_dataset[original_idx]\n",
        "\n",
        "    # Remap the label using the label_map dictionary\n",
        "    remapped_label = self.label_map[label]\n",
        "\n",
        "    # Return the image and the remapped label\n",
        "    return image, remapped_label"
      ]
    },
    {
      "cell_type": "markdown",
      "metadata": {
        "id": "bm8yCZW4abkP"
      },
      "source": [
        "Definimos las transformaciones que se aplicarán sobre las imágenes"
      ]
    },
    {
      "cell_type": "code",
      "execution_count": 98,
      "metadata": {
        "id": "amQbye9AaJlF"
      },
      "outputs": [],
      "source": [
        "transform = transforms.Compose(\n",
        "    [\n",
        "        transforms.RandomHorizontalFlip(),\n",
        "        transforms.RandomCrop(32, padding=4),\n",
        "        transforms.ToTensor(),\n",
        "        transforms.Normalize((0.5, 0.5, 0.5), (0.5, 0.5, 0.5))\n",
        "    ]\n",
        ")"
      ]
    },
    {
      "cell_type": "markdown",
      "metadata": {
        "id": "e153E4dtaslK"
      },
      "source": [
        "Descargar y cargar el conjunto de datos CIFAR-10"
      ]
    },
    {
      "cell_type": "code",
      "execution_count": 99,
      "metadata": {
        "colab": {
          "base_uri": "https://localhost:8080/"
        },
        "id": "jz2lKmN9avAl",
        "outputId": "5d9ed5a4-e294-485e-c0d8-d1221c0585e8"
      },
      "outputs": [
        {
          "name": "stdout",
          "output_type": "stream",
          "text": [
            "Files already downloaded and verified\n",
            "Files already downloaded and verified\n"
          ]
        }
      ],
      "source": [
        "original_train_dataset = torchvision.datasets.CIFAR10(root='./data', train=True, download=True, transform=transform)\n",
        "original_test_dataset = torchvision.datasets.CIFAR10(root='./data', train=False, download=True, transform=transform)"
      ]
    },
    {
      "cell_type": "markdown",
      "metadata": {
        "id": "ZleKtQRmfsAj"
      },
      "source": [
        "Se seleccionan 3 clases: gato, perro, rana"
      ]
    },
    {
      "cell_type": "code",
      "execution_count": 100,
      "metadata": {
        "id": "xiE4xMcbfz1y"
      },
      "outputs": [],
      "source": [
        "classes = original_train_dataset.classes\n",
        "selected_classes = ['cat', 'dog', 'frog']\n",
        "selected_class_indices = [classes.index(cls) for cls in selected_classes]"
      ]
    },
    {
      "cell_type": "markdown",
      "metadata": {
        "id": "KAKYl7WEf-ro"
      },
      "source": [
        "Se creará un nuevo conjunto de datos con las clases seleccionadas"
      ]
    },
    {
      "cell_type": "code",
      "execution_count": 101,
      "metadata": {
        "id": "opXpQn7GgEbz"
      },
      "outputs": [],
      "source": [
        "filtered_train_dataset = FilteredDataset(original_train_dataset, selected_class_indices)\n",
        "filtered_test_dataset = FilteredDataset(original_test_dataset, selected_class_indices)"
      ]
    },
    {
      "cell_type": "markdown",
      "metadata": {},
      "source": [
        "Se visualiza el tamaño de los conjuntos de datos"
      ]
    },
    {
      "cell_type": "code",
      "execution_count": 118,
      "metadata": {},
      "outputs": [
        {
          "name": "stdout",
          "output_type": "stream",
          "text": [
            "Original train dataset: 50000 images\n",
            "Filtered train dataset: 15000 images\n"
          ]
        }
      ],
      "source": [
        "print(f'Original train dataset: {len(original_train_dataset)} images')\n",
        "print(f'Filtered train dataset: {len(filtered_train_dataset)} images')"
      ]
    },
    {
      "cell_type": "code",
      "execution_count": 119,
      "metadata": {},
      "outputs": [
        {
          "name": "stdout",
          "output_type": "stream",
          "text": [
            "Original test dataset: 10000 images\n",
            "Filtered test dataset: 3000 images\n"
          ]
        }
      ],
      "source": [
        "print(f'Original test dataset: {len(original_test_dataset)} images')\n",
        "print(f'Filtered test dataset: {len(filtered_test_dataset)} images')"
      ]
    },
    {
      "cell_type": "markdown",
      "metadata": {
        "id": "0KbvZrvjgIxf"
      },
      "source": [
        "Se crean `DataLoaders` para los nuevos datasets con un tamaño de batch de 64"
      ]
    },
    {
      "cell_type": "code",
      "execution_count": 102,
      "metadata": {
        "id": "tI6y6nLpgR2k"
      },
      "outputs": [],
      "source": [
        "# Define the batch size\n",
        "batch_size = 16\n",
        "\n",
        "# Create DataLoaders for the new datasets\n",
        "trainloader = DataLoader(filtered_train_dataset, batch_size=batch_size, shuffle=True, num_workers=2)\n",
        "testloader = DataLoader(filtered_test_dataset, batch_size=batch_size, shuffle=False, num_workers=2)"
      ]
    },
    {
      "cell_type": "markdown",
      "metadata": {
        "id": "wdbcZ4VEgYKQ"
      },
      "source": [
        "Se define una función para mostrar una imagen\n",
        "\n"
      ]
    },
    {
      "cell_type": "code",
      "execution_count": 103,
      "metadata": {
        "id": "b1FYJa7Ogcjb"
      },
      "outputs": [],
      "source": [
        "def imshow(img):\n",
        "  \"\"\"\n",
        "  Display an image tensor.\n",
        "\n",
        "  Parameters:\n",
        "  - img: The image tensor to display.\n",
        "  \"\"\"\n",
        "  # De-normalize the image\n",
        "  img = img / 2 + 0.5  \n",
        "  # Convert the image tensor to a NumPy array\n",
        "  npimg = img.numpy()  \n",
        "  # Transpose the dimensions and display the image\n",
        "  plt.imshow(np.transpose(npimg, (1, 2, 0)))  \n",
        "  \n",
        "  plt.show()"
      ]
    },
    {
      "cell_type": "markdown",
      "metadata": {
        "id": "jOvERsJCgi5I"
      },
      "source": [
        "Se genera un lote de imágenes y se las muestra"
      ]
    },
    {
      "cell_type": "code",
      "execution_count": 104,
      "metadata": {
        "colab": {
          "base_uri": "https://localhost:8080/",
          "height": 210
        },
        "id": "GjMPWO9Ugl-0",
        "outputId": "84824895-1f02-4d3d-ae87-ff068fd56e51"
      },
      "outputs": [
        {
          "data": {
            "image/png": "[encoded data removed]",
            "text/plain": [
              "<Figure size 640x480 with 1 Axes>"
            ]
          },
          "metadata": {},
          "output_type": "display_data"
        },
        {
          "name": "stdout",
          "output_type": "stream",
          "text": [
            "frog cat frog dog cat dog dog cat cat frog cat cat dog cat frog frog\n"
          ]
        }
      ],
      "source": [
        "# Get a batch of training images\n",
        "dataiter = iter(trainloader)\n",
        "images, labels = next(dataiter)\n",
        "\n",
        "# Display images from the batch\n",
        "imshow(torchvision.utils.make_grid(images))\n",
        "print(' '.join(f'{selected_classes[labels[j]]}' for j in range(batch_size)))"
      ]
    },
    {
      "cell_type": "markdown",
      "metadata": {
        "id": "Hn_uJy2eg4hp"
      },
      "source": [
        "# Implementación de la arquitectura CNN"
      ]
    },
    {
      "cell_type": "code",
      "execution_count": 105,
      "metadata": {
        "id": "HrNvPOhUg4Pp"
      },
      "outputs": [],
      "source": [
        "class CNN(torch.nn.Module):\n",
        "    def __init__(self, n_classes=3, n_outputs=3, kernel_size=5):\n",
        "        \"\"\"\n",
        "        Initialize the CNN model.\n",
        "        \n",
        "        Parameters:\n",
        "        - n_classes: The number of input channels.\n",
        "        - n_outputs: The number of output classes.\n",
        "        - kernel_size: The size of the convolutional kernels.\n",
        "        \"\"\"\n",
        "        super(CNN, self).__init__()\n",
        "\n",
        "        # Define the convolutional layers\n",
        "        self.conv1 = torch.nn.Conv2d(n_classes, 64, kernel_size=kernel_size, padding=kernel_size//2, stride=1)\n",
        "        self.bn1 = torch.nn.BatchNorm2d(64)\n",
        "        self.relu1 = torch.nn.LeakyReLU()\n",
        "        self.maxpool1 = torch.nn.MaxPool2d((2, 2))\n",
        "\n",
        "        self.conv2 = torch.nn.Conv2d(64, 128, kernel_size=kernel_size, padding=kernel_size//2, stride=1)\n",
        "        self.bn2 = torch.nn.BatchNorm2d(128)\n",
        "        self.relu2 = torch.nn.LeakyReLU()\n",
        "        self.maxpool2 = torch.nn.MaxPool2d((2, 2))\n",
        "        self.dropout2 = torch.nn.Dropout(0.3)\n",
        "\n",
        "        self.conv3 = torch.nn.Conv2d(128, 256, kernel_size=kernel_size, padding=kernel_size//2, stride=1)\n",
        "        self.bn3 = torch.nn.BatchNorm2d(256)\n",
        "        self.relu3 = torch.nn.LeakyReLU()\n",
        "        self.maxpool3 = torch.nn.MaxPool2d((2, 2))\n",
        "        self.dropout3 = torch.nn.Dropout(0.3)\n",
        "\n",
        "        self.conv4 = torch.nn.Conv2d(256, 256, kernel_size=kernel_size, padding=kernel_size//2, stride=1)\n",
        "        self.bn4 = torch.nn.BatchNorm2d(256)\n",
        "        self.relu4 = torch.nn.LeakyReLU()\n",
        "        self.maxpool4 = torch.nn.MaxPool2d((2, 2))\n",
        "        self.dropout4 = torch.nn.Dropout(0.3)\n",
        "\n",
        "        # Define the global average pooling layer\n",
        "        self.gap = torch.nn.AdaptiveAvgPool2d((1, 1))\n",
        "\n",
        "        # Define the fully-connected layers\n",
        "        self.linear = torch.nn.Linear(256, 64)\n",
        "        self.dropout5 = torch.nn.Dropout(0.4)\n",
        "        self.relu5 = torch.nn.LeakyReLU()\n",
        "        self.linear2 = torch.nn.Linear(64, n_outputs)\n",
        "        \n",
        "    def forward(self, x):\n",
        "        \"\"\"\n",
        "        Forward pass of the CNN model.\n",
        "        \n",
        "        Parameters:\n",
        "        - x: The input image batch.\n",
        "        \n",
        "        Returns:\n",
        "        - The output of the CNN model.\n",
        "        \"\"\"\n",
        "        # Apply the convolutional layers\n",
        "        x = self.conv1(x)\n",
        "        x = self.bn1(x)\n",
        "        x = self.relu1(x)\n",
        "        x = self.maxpool1(x)\n",
        "\n",
        "        x = self.conv2(x)\n",
        "        x = self.bn2(x)\n",
        "        x = self.relu2(x)\n",
        "        x = self.maxpool2(x)\n",
        "        x = self.dropout2(x)\n",
        "\n",
        "        x = self.conv3(x)\n",
        "        x = self.bn3(x)\n",
        "        x = self.relu3(x)\n",
        "        x = self.maxpool3(x)\n",
        "        x = self.dropout3(x)\n",
        "\n",
        "        x = self.conv4(x)\n",
        "        x = self.bn4(x)\n",
        "        x = self.relu4(x)\n",
        "        x = self.maxpool4(x)\n",
        "        x = self.dropout4(x)\n",
        "\n",
        "        # Apply the global average pooling layer\n",
        "        x = self.gap(x)\n",
        "\n",
        "        # Flatten the output of the convolutional layers\n",
        "        x = x.view(x.size(0), -1)\n",
        "        \n",
        "        # Apply the fully-connected layers\n",
        "        x = self.linear(x)\n",
        "        x = self.relu5(x)\n",
        "        x = self.dropout5(x)\n",
        "        x = self.linear2(x)\n",
        "\n",
        "        return x"
      ]
    },
    {
      "cell_type": "markdown",
      "metadata": {},
      "source": [
        "Se muestra la arquitectura de la red neuronal convolucional que se implementará"
      ]
    },
    {
      "cell_type": "code",
      "execution_count": 106,
      "metadata": {
        "id": "QTYIOC7mSqqD"
      },
      "outputs": [
        {
          "name": "stdout",
          "output_type": "stream",
          "text": [
            "----------------------------------------------------------------\n",
            "        Layer (type)               Output Shape         Param #\n",
            "================================================================\n",
            "            Conv2d-1           [-1, 64, 32, 32]           4,864\n",
            "       BatchNorm2d-2           [-1, 64, 32, 32]             128\n",
            "         LeakyReLU-3           [-1, 64, 32, 32]               0\n",
            "         MaxPool2d-4           [-1, 64, 16, 16]               0\n",
            "            Conv2d-5          [-1, 128, 16, 16]         204,928\n",
            "       BatchNorm2d-6          [-1, 128, 16, 16]             256\n",
            "         LeakyReLU-7          [-1, 128, 16, 16]               0\n",
            "         MaxPool2d-8            [-1, 128, 8, 8]               0\n",
            "           Dropout-9            [-1, 128, 8, 8]               0\n",
            "           Conv2d-10            [-1, 256, 8, 8]         819,456\n",
            "      BatchNorm2d-11            [-1, 256, 8, 8]             512\n",
            "        LeakyReLU-12            [-1, 256, 8, 8]               0\n",
            "        MaxPool2d-13            [-1, 256, 4, 4]               0\n",
            "          Dropout-14            [-1, 256, 4, 4]               0\n",
            "           Conv2d-15            [-1, 256, 4, 4]       1,638,656\n",
            "      BatchNorm2d-16            [-1, 256, 4, 4]             512\n",
            "        LeakyReLU-17            [-1, 256, 4, 4]               0\n",
            "        MaxPool2d-18            [-1, 256, 2, 2]               0\n",
            "          Dropout-19            [-1, 256, 2, 2]               0\n",
            "AdaptiveAvgPool2d-20            [-1, 256, 1, 1]               0\n",
            "           Linear-21                   [-1, 64]          16,448\n",
            "        LeakyReLU-22                   [-1, 64]               0\n",
            "          Dropout-23                   [-1, 64]               0\n",
            "           Linear-24                    [-1, 3]             195\n",
            "================================================================\n",
            "Total params: 2,685,955\n",
            "Trainable params: 2,685,955\n",
            "Non-trainable params: 0\n",
            "----------------------------------------------------------------\n",
            "Input size (MB): 0.01\n",
            "Forward/backward pass size (MB): 3.05\n",
            "Params size (MB): 10.25\n",
            "Estimated Total Size (MB): 13.31\n",
            "----------------------------------------------------------------\n"
          ]
        }
      ],
      "source": [
        "model = CNN()\n",
        "\n",
        "model.to(device)\n",
        "summary(model, (3, 32, 32))"
      ]
    },
    {
      "cell_type": "markdown",
      "metadata": {
        "id": "ExIcJGoceTAi"
      },
      "source": [
        "Se define la función de entrenamiento"
      ]
    },
    {
      "cell_type": "code",
      "execution_count": 109,
      "metadata": {
        "id": "EA1wjoJuWFkY"
      },
      "outputs": [],
      "source": [
        "def fit(model, dataloader, epochs=15):\n",
        "    \"\"\"\n",
        "    Train the model using the given data.\n",
        "    \n",
        "    Parameters:\n",
        "    - model: The model to train.\n",
        "    - dataloader: The DataLoader object containing the training data.\n",
        "    - epochs: The number of epochs for training.\n",
        "    \n",
        "    Returns:\n",
        "    - A dictionary containing the training and validation metrics.\n",
        "    \"\"\"\n",
        "    # Move the model to the device\n",
        "    model.to(device)\n",
        "    \n",
        "    # Define the optimizer and loss function\n",
        "    optimizer = torch.optim.Adam(model.parameters(), lr=1e-4, weight_decay=1e-3)\n",
        "    criterion = torch.nn.CrossEntropyLoss()\n",
        "\n",
        "    # Lists to store the metrics for each epoch\n",
        "    epoch_t_loss = []\n",
        "    epoch_v_loss = []\n",
        "    epoch_t_acc = []\n",
        "    epoch_v_acc = []\n",
        "\n",
        "    for epoch in range(1, epochs+1):\n",
        "        # Set the model to train mode\n",
        "        model.train()\n",
        "        \n",
        "        # Initialize the training loss and number of correct predictions\n",
        "        train_loss = []\n",
        "        train_acc = []\n",
        "\n",
        "        for batch in tqdm(dataloader['train'], desc=f\"Training Epoch {epoch}/{epochs}\"):\n",
        "            # Get the input data and move it to the device\n",
        "            X, y = batch\n",
        "            X, y = X.to(device), y.to(device)\n",
        "            \n",
        "            # Zero the gradients\n",
        "            optimizer.zero_grad()\n",
        "            \n",
        "            # Forward pass\n",
        "            y_hat = model(X)\n",
        "            \n",
        "            # Calculate the loss\n",
        "            loss = criterion(y_hat, y)\n",
        "            \n",
        "            # Backward pass\n",
        "            loss.backward()\n",
        "            \n",
        "            # Update the weights\n",
        "            optimizer.step()\n",
        "            \n",
        "            # Store the loss and accuracy for this batch\n",
        "            train_loss.append(loss.item())\n",
        "            acc = (y_hat.argmax(dim=1) == y).sum().item() / len(y)\n",
        "            train_acc.append(acc)\n",
        "\n",
        "        # Calculate and store the average training loss and accuracy for this epoch\n",
        "        avg_train_loss = sum(train_loss) / len(train_loss)\n",
        "        avg_train_acc = sum(train_acc) / len(train_acc)\n",
        "        epoch_t_loss.append(avg_train_loss)\n",
        "        epoch_t_acc.append(avg_train_acc)\n",
        "\n",
        "        # Set the model to evaluation mode\n",
        "        model.eval()\n",
        "        \n",
        "        # Initialize the validation loss and number of correct predictions\n",
        "        val_loss = []\n",
        "        val_acc = []\n",
        "\n",
        "        # Disable gradient computation\n",
        "        with torch.no_grad():\n",
        "            for batch in tqdm(dataloader['test'], desc=\"Validating\", leave=False):\n",
        "                # Get the input data and move it to the device\n",
        "                X, y = batch\n",
        "                X, y = X.to(device), y.to(device)\n",
        "                \n",
        "                # Forward pass\n",
        "                y_hat = model(X)\n",
        "                \n",
        "                # Calculate the loss\n",
        "                loss = criterion(y_hat, y)\n",
        "                \n",
        "                # Store the loss and accuracy for this batch\n",
        "                val_loss.append(loss.item())\n",
        "                acc = (y_hat.argmax(dim=1) == y).sum().item() / len(y)\n",
        "                val_acc.append(acc)\n",
        "\n",
        "        # Calculate and store the average validation loss and accuracy for this epoch\n",
        "        avg_val_loss = sum(val_loss) / len(val_loss)\n",
        "        avg_val_acc = sum(val_acc) / len(val_acc)\n",
        "        epoch_v_loss.append(avg_val_loss)\n",
        "        epoch_v_acc.append(avg_val_acc)\n",
        "\n",
        "        # Print the summary after each epoch\n",
        "        print(f\"Epoch {epoch}/{epochs} | \"\n",
        "              f\"Train Loss: {avg_train_loss:.4f} | Train Acc: {avg_train_acc:.4f} | \"\n",
        "              f\"Val Loss: {avg_val_loss:.4f} | Val Acc: {avg_val_acc:.4f}\")\n",
        "\n",
        "    return {\n",
        "        'train_loss': epoch_t_loss,\n",
        "        'val_loss': epoch_v_loss,\n",
        "        'train_acc': epoch_t_acc,\n",
        "        'val_acc': epoch_v_acc\n",
        "    }"
      ]
    },
    {
      "cell_type": "markdown",
      "metadata": {},
      "source": [
        "# Experimento con tamaño de kernel 5x5"
      ]
    },
    {
      "cell_type": "markdown",
      "metadata": {},
      "source": [
        "A continuación, se entrenará el modelo partiendo con el `kernel_size=5` y se evaluará su comportamiento en términos de la pérdida y *accuracy*."
      ]
    },
    {
      "cell_type": "code",
      "execution_count": 110,
      "metadata": {
        "colab": {
          "base_uri": "https://localhost:8080/"
        },
        "id": "uc2Ne24bXGK3",
        "outputId": "54cebc8c-ac77-4c36-a70a-ccd0687e2bbd"
      },
      "outputs": [
        {
          "name": "stderr",
          "output_type": "stream",
          "text": [
            "Training Epoch 1/100:   0%|          | 0/938 [00:00<?, ?it/s]"
          ]
        },
        {
          "name": "stderr",
          "output_type": "stream",
          "text": [
            "Training Epoch 1/100: 100%|██████████| 938/938 [00:05<00:00, 185.02it/s]\n",
            "                                                              \r"
          ]
        },
        {
          "name": "stdout",
          "output_type": "stream",
          "text": [
            "Epoch 1/100 | Train Loss: 0.8706 | Train Acc: 0.5681 | Val Loss: 0.7647 | Val Acc: 0.6330\n"
          ]
        },
        {
          "name": "stderr",
          "output_type": "stream",
          "text": [
            "Training Epoch 2/100: 100%|██████████| 938/938 [00:04<00:00, 195.18it/s]\n",
            "                                                              \r"
          ]
        },
        {
          "name": "stdout",
          "output_type": "stream",
          "text": [
            "Epoch 2/100 | Train Loss: 0.7629 | Train Acc: 0.6354 | Val Loss: 0.7211 | Val Acc: 0.6559\n"
          ]
        },
        {
          "name": "stderr",
          "output_type": "stream",
          "text": [
            "Training Epoch 3/100: 100%|██████████| 938/938 [00:04<00:00, 198.07it/s]\n",
            "                                                              \r"
          ]
        },
        {
          "name": "stdout",
          "output_type": "stream",
          "text": [
            "Epoch 3/100 | Train Loss: 0.7255 | Train Acc: 0.6656 | Val Loss: 0.6637 | Val Acc: 0.6928\n"
          ]
        },
        {
          "name": "stderr",
          "output_type": "stream",
          "text": [
            "Training Epoch 4/100: 100%|██████████| 938/938 [00:04<00:00, 202.08it/s]\n",
            "                                                              \r"
          ]
        },
        {
          "name": "stdout",
          "output_type": "stream",
          "text": [
            "Epoch 4/100 | Train Loss: 0.6839 | Train Acc: 0.6888 | Val Loss: 0.6175 | Val Acc: 0.7274\n"
          ]
        },
        {
          "name": "stderr",
          "output_type": "stream",
          "text": [
            "Training Epoch 5/100: 100%|██████████| 938/938 [00:04<00:00, 195.88it/s]\n",
            "                                                              \r"
          ]
        },
        {
          "name": "stdout",
          "output_type": "stream",
          "text": [
            "Epoch 5/100 | Train Loss: 0.6625 | Train Acc: 0.7009 | Val Loss: 0.6635 | Val Acc: 0.6852\n"
          ]
        },
        {
          "name": "stderr",
          "output_type": "stream",
          "text": [
            "Training Epoch 6/100: 100%|██████████| 938/938 [00:04<00:00, 202.15it/s]\n",
            "                                                              \r"
          ]
        },
        {
          "name": "stdout",
          "output_type": "stream",
          "text": [
            "Epoch 6/100 | Train Loss: 0.6318 | Train Acc: 0.7193 | Val Loss: 0.5772 | Val Acc: 0.7414\n"
          ]
        },
        {
          "name": "stderr",
          "output_type": "stream",
          "text": [
            "Training Epoch 7/100: 100%|██████████| 938/938 [00:04<00:00, 205.40it/s]\n",
            "                                                              \r"
          ]
        },
        {
          "name": "stdout",
          "output_type": "stream",
          "text": [
            "Epoch 7/100 | Train Loss: 0.6060 | Train Acc: 0.7318 | Val Loss: 0.5726 | Val Acc: 0.7490\n"
          ]
        },
        {
          "name": "stderr",
          "output_type": "stream",
          "text": [
            "Training Epoch 8/100: 100%|██████████| 938/938 [00:04<00:00, 203.17it/s]\n",
            "                                                              \r"
          ]
        },
        {
          "name": "stdout",
          "output_type": "stream",
          "text": [
            "Epoch 8/100 | Train Loss: 0.5932 | Train Acc: 0.7429 | Val Loss: 0.5469 | Val Acc: 0.7673\n"
          ]
        },
        {
          "name": "stderr",
          "output_type": "stream",
          "text": [
            "Training Epoch 9/100: 100%|██████████| 938/938 [00:04<00:00, 201.18it/s]\n",
            "                                                              \r"
          ]
        },
        {
          "name": "stdout",
          "output_type": "stream",
          "text": [
            "Epoch 9/100 | Train Loss: 0.5742 | Train Acc: 0.7461 | Val Loss: 0.5329 | Val Acc: 0.7620\n"
          ]
        },
        {
          "name": "stderr",
          "output_type": "stream",
          "text": [
            "Training Epoch 10/100: 100%|██████████| 938/938 [00:04<00:00, 204.04it/s]\n",
            "                                                              \r"
          ]
        },
        {
          "name": "stdout",
          "output_type": "stream",
          "text": [
            "Epoch 10/100 | Train Loss: 0.5467 | Train Acc: 0.7645 | Val Loss: 0.5028 | Val Acc: 0.7689\n"
          ]
        },
        {
          "name": "stderr",
          "output_type": "stream",
          "text": [
            "Training Epoch 11/100: 100%|██████████| 938/938 [00:04<00:00, 204.61it/s]\n",
            "                                                              \r"
          ]
        },
        {
          "name": "stdout",
          "output_type": "stream",
          "text": [
            "Epoch 11/100 | Train Loss: 0.5456 | Train Acc: 0.7679 | Val Loss: 0.5246 | Val Acc: 0.7666\n"
          ]
        },
        {
          "name": "stderr",
          "output_type": "stream",
          "text": [
            "Training Epoch 12/100: 100%|██████████| 938/938 [00:04<00:00, 201.92it/s]\n",
            "                                                              \r"
          ]
        },
        {
          "name": "stdout",
          "output_type": "stream",
          "text": [
            "Epoch 12/100 | Train Loss: 0.5290 | Train Acc: 0.7728 | Val Loss: 0.4719 | Val Acc: 0.7906\n"
          ]
        },
        {
          "name": "stderr",
          "output_type": "stream",
          "text": [
            "Training Epoch 13/100: 100%|██████████| 938/938 [00:04<00:00, 203.96it/s]\n",
            "                                                              \r"
          ]
        },
        {
          "name": "stdout",
          "output_type": "stream",
          "text": [
            "Epoch 13/100 | Train Loss: 0.5146 | Train Acc: 0.7797 | Val Loss: 0.4784 | Val Acc: 0.7922\n"
          ]
        },
        {
          "name": "stderr",
          "output_type": "stream",
          "text": [
            "Training Epoch 14/100: 100%|██████████| 938/938 [00:04<00:00, 206.96it/s]\n",
            "                                                              \r"
          ]
        },
        {
          "name": "stdout",
          "output_type": "stream",
          "text": [
            "Epoch 14/100 | Train Loss: 0.5113 | Train Acc: 0.7820 | Val Loss: 0.5008 | Val Acc: 0.7829\n"
          ]
        },
        {
          "name": "stderr",
          "output_type": "stream",
          "text": [
            "Training Epoch 15/100: 100%|██████████| 938/938 [00:04<00:00, 201.73it/s]\n",
            "                                                              \r"
          ]
        },
        {
          "name": "stdout",
          "output_type": "stream",
          "text": [
            "Epoch 15/100 | Train Loss: 0.4991 | Train Acc: 0.7882 | Val Loss: 0.4629 | Val Acc: 0.7939\n"
          ]
        },
        {
          "name": "stderr",
          "output_type": "stream",
          "text": [
            "Training Epoch 16/100: 100%|██████████| 938/938 [00:04<00:00, 202.42it/s]\n",
            "                                                              \r"
          ]
        },
        {
          "name": "stdout",
          "output_type": "stream",
          "text": [
            "Epoch 16/100 | Train Loss: 0.4916 | Train Acc: 0.7956 | Val Loss: 0.4906 | Val Acc: 0.7989\n"
          ]
        },
        {
          "name": "stderr",
          "output_type": "stream",
          "text": [
            "Training Epoch 17/100: 100%|██████████| 938/938 [00:05<00:00, 167.22it/s]\n",
            "                                                              \r"
          ]
        },
        {
          "name": "stdout",
          "output_type": "stream",
          "text": [
            "Epoch 17/100 | Train Loss: 0.4824 | Train Acc: 0.7961 | Val Loss: 0.4916 | Val Acc: 0.7849\n"
          ]
        },
        {
          "name": "stderr",
          "output_type": "stream",
          "text": [
            "Training Epoch 18/100: 100%|██████████| 938/938 [00:05<00:00, 162.02it/s]\n",
            "                                                              \r"
          ]
        },
        {
          "name": "stdout",
          "output_type": "stream",
          "text": [
            "Epoch 18/100 | Train Loss: 0.4714 | Train Acc: 0.8026 | Val Loss: 0.4415 | Val Acc: 0.8068\n"
          ]
        },
        {
          "name": "stderr",
          "output_type": "stream",
          "text": [
            "Training Epoch 19/100: 100%|██████████| 938/938 [00:05<00:00, 159.49it/s]\n",
            "                                                              \r"
          ]
        },
        {
          "name": "stdout",
          "output_type": "stream",
          "text": [
            "Epoch 19/100 | Train Loss: 0.4678 | Train Acc: 0.8013 | Val Loss: 0.4713 | Val Acc: 0.8009\n"
          ]
        },
        {
          "name": "stderr",
          "output_type": "stream",
          "text": [
            "Training Epoch 20/100: 100%|██████████| 938/938 [00:05<00:00, 164.24it/s]\n",
            "                                                              \r"
          ]
        },
        {
          "name": "stdout",
          "output_type": "stream",
          "text": [
            "Epoch 20/100 | Train Loss: 0.4618 | Train Acc: 0.8050 | Val Loss: 0.4375 | Val Acc: 0.8142\n"
          ]
        },
        {
          "name": "stderr",
          "output_type": "stream",
          "text": [
            "Training Epoch 21/100: 100%|██████████| 938/938 [00:05<00:00, 166.46it/s]\n",
            "                                                              \r"
          ]
        },
        {
          "name": "stdout",
          "output_type": "stream",
          "text": [
            "Epoch 21/100 | Train Loss: 0.4559 | Train Acc: 0.8098 | Val Loss: 0.4494 | Val Acc: 0.8078\n"
          ]
        },
        {
          "name": "stderr",
          "output_type": "stream",
          "text": [
            "Training Epoch 22/100: 100%|██████████| 938/938 [00:05<00:00, 165.31it/s]\n",
            "                                                              \r"
          ]
        },
        {
          "name": "stdout",
          "output_type": "stream",
          "text": [
            "Epoch 22/100 | Train Loss: 0.4530 | Train Acc: 0.8101 | Val Loss: 0.4479 | Val Acc: 0.8112\n"
          ]
        },
        {
          "name": "stderr",
          "output_type": "stream",
          "text": [
            "Training Epoch 23/100: 100%|██████████| 938/938 [00:05<00:00, 171.11it/s]\n",
            "                                                              \r"
          ]
        },
        {
          "name": "stdout",
          "output_type": "stream",
          "text": [
            "Epoch 23/100 | Train Loss: 0.4421 | Train Acc: 0.8140 | Val Loss: 0.4187 | Val Acc: 0.8195\n"
          ]
        },
        {
          "name": "stderr",
          "output_type": "stream",
          "text": [
            "Training Epoch 24/100: 100%|██████████| 938/938 [00:05<00:00, 171.68it/s]\n",
            "                                                              \r"
          ]
        },
        {
          "name": "stdout",
          "output_type": "stream",
          "text": [
            "Epoch 24/100 | Train Loss: 0.4326 | Train Acc: 0.8196 | Val Loss: 0.4174 | Val Acc: 0.8298\n"
          ]
        },
        {
          "name": "stderr",
          "output_type": "stream",
          "text": [
            "Training Epoch 25/100: 100%|██████████| 938/938 [00:05<00:00, 171.10it/s]\n",
            "                                                              \r"
          ]
        },
        {
          "name": "stdout",
          "output_type": "stream",
          "text": [
            "Epoch 25/100 | Train Loss: 0.4374 | Train Acc: 0.8187 | Val Loss: 0.4025 | Val Acc: 0.8308\n"
          ]
        },
        {
          "name": "stderr",
          "output_type": "stream",
          "text": [
            "Training Epoch 26/100: 100%|██████████| 938/938 [00:05<00:00, 167.42it/s]\n",
            "                                                              \r"
          ]
        },
        {
          "name": "stdout",
          "output_type": "stream",
          "text": [
            "Epoch 26/100 | Train Loss: 0.4249 | Train Acc: 0.8199 | Val Loss: 0.4124 | Val Acc: 0.8221\n"
          ]
        },
        {
          "name": "stderr",
          "output_type": "stream",
          "text": [
            "Training Epoch 27/100: 100%|██████████| 938/938 [00:04<00:00, 203.10it/s]\n",
            "                                                              \r"
          ]
        },
        {
          "name": "stdout",
          "output_type": "stream",
          "text": [
            "Epoch 27/100 | Train Loss: 0.4190 | Train Acc: 0.8298 | Val Loss: 0.4092 | Val Acc: 0.8205\n"
          ]
        },
        {
          "name": "stderr",
          "output_type": "stream",
          "text": [
            "Training Epoch 28/100: 100%|██████████| 938/938 [00:05<00:00, 173.23it/s]\n",
            "                                                              \r"
          ]
        },
        {
          "name": "stdout",
          "output_type": "stream",
          "text": [
            "Epoch 28/100 | Train Loss: 0.4165 | Train Acc: 0.8282 | Val Loss: 0.4019 | Val Acc: 0.8348\n"
          ]
        },
        {
          "name": "stderr",
          "output_type": "stream",
          "text": [
            "Training Epoch 29/100: 100%|██████████| 938/938 [00:05<00:00, 171.42it/s]\n",
            "                                                              \r"
          ]
        },
        {
          "name": "stdout",
          "output_type": "stream",
          "text": [
            "Epoch 29/100 | Train Loss: 0.4146 | Train Acc: 0.8278 | Val Loss: 0.4231 | Val Acc: 0.8285\n"
          ]
        },
        {
          "name": "stderr",
          "output_type": "stream",
          "text": [
            "Training Epoch 30/100: 100%|██████████| 938/938 [00:05<00:00, 167.52it/s]\n",
            "                                                              \r"
          ]
        },
        {
          "name": "stdout",
          "output_type": "stream",
          "text": [
            "Epoch 30/100 | Train Loss: 0.4055 | Train Acc: 0.8317 | Val Loss: 0.3931 | Val Acc: 0.8321\n"
          ]
        },
        {
          "name": "stderr",
          "output_type": "stream",
          "text": [
            "Training Epoch 31/100: 100%|██████████| 938/938 [00:05<00:00, 167.38it/s]\n",
            "                                                              \r"
          ]
        },
        {
          "name": "stdout",
          "output_type": "stream",
          "text": [
            "Epoch 31/100 | Train Loss: 0.3992 | Train Acc: 0.8373 | Val Loss: 0.4356 | Val Acc: 0.8175\n"
          ]
        },
        {
          "name": "stderr",
          "output_type": "stream",
          "text": [
            "Training Epoch 32/100: 100%|██████████| 938/938 [00:05<00:00, 168.21it/s]\n",
            "                                                              \r"
          ]
        },
        {
          "name": "stdout",
          "output_type": "stream",
          "text": [
            "Epoch 32/100 | Train Loss: 0.3930 | Train Acc: 0.8415 | Val Loss: 0.3859 | Val Acc: 0.8364\n"
          ]
        },
        {
          "name": "stderr",
          "output_type": "stream",
          "text": [
            "Training Epoch 33/100: 100%|██████████| 938/938 [00:04<00:00, 199.17it/s]\n",
            "                                                              \r"
          ]
        },
        {
          "name": "stdout",
          "output_type": "stream",
          "text": [
            "Epoch 33/100 | Train Loss: 0.4005 | Train Acc: 0.8370 | Val Loss: 0.4372 | Val Acc: 0.8231\n"
          ]
        },
        {
          "name": "stderr",
          "output_type": "stream",
          "text": [
            "Training Epoch 34/100: 100%|██████████| 938/938 [00:04<00:00, 196.92it/s]\n",
            "                                                              \r"
          ]
        },
        {
          "name": "stdout",
          "output_type": "stream",
          "text": [
            "Epoch 34/100 | Train Loss: 0.3889 | Train Acc: 0.8393 | Val Loss: 0.4246 | Val Acc: 0.8231\n"
          ]
        },
        {
          "name": "stderr",
          "output_type": "stream",
          "text": [
            "Training Epoch 35/100: 100%|██████████| 938/938 [00:04<00:00, 201.19it/s]\n",
            "                                                              \r"
          ]
        },
        {
          "name": "stdout",
          "output_type": "stream",
          "text": [
            "Epoch 35/100 | Train Loss: 0.3881 | Train Acc: 0.8359 | Val Loss: 0.3956 | Val Acc: 0.8328\n"
          ]
        },
        {
          "name": "stderr",
          "output_type": "stream",
          "text": [
            "Training Epoch 36/100: 100%|██████████| 938/938 [00:04<00:00, 196.80it/s]\n",
            "                                                              \r"
          ]
        },
        {
          "name": "stdout",
          "output_type": "stream",
          "text": [
            "Epoch 36/100 | Train Loss: 0.3778 | Train Acc: 0.8495 | Val Loss: 0.3744 | Val Acc: 0.8404\n"
          ]
        },
        {
          "name": "stderr",
          "output_type": "stream",
          "text": [
            "Training Epoch 37/100: 100%|██████████| 938/938 [00:04<00:00, 202.57it/s]\n",
            "                                                              \r"
          ]
        },
        {
          "name": "stdout",
          "output_type": "stream",
          "text": [
            "Epoch 37/100 | Train Loss: 0.3745 | Train Acc: 0.8471 | Val Loss: 0.3697 | Val Acc: 0.8514\n"
          ]
        },
        {
          "name": "stderr",
          "output_type": "stream",
          "text": [
            "Training Epoch 38/100: 100%|██████████| 938/938 [00:04<00:00, 205.19it/s]\n",
            "                                                              \r"
          ]
        },
        {
          "name": "stdout",
          "output_type": "stream",
          "text": [
            "Epoch 38/100 | Train Loss: 0.3669 | Train Acc: 0.8532 | Val Loss: 0.3876 | Val Acc: 0.8438\n"
          ]
        },
        {
          "name": "stderr",
          "output_type": "stream",
          "text": [
            "Training Epoch 39/100: 100%|██████████| 938/938 [00:04<00:00, 205.96it/s]\n",
            "                                                              \r"
          ]
        },
        {
          "name": "stdout",
          "output_type": "stream",
          "text": [
            "Epoch 39/100 | Train Loss: 0.3686 | Train Acc: 0.8517 | Val Loss: 0.3654 | Val Acc: 0.8447\n"
          ]
        },
        {
          "name": "stderr",
          "output_type": "stream",
          "text": [
            "Training Epoch 40/100: 100%|██████████| 938/938 [00:04<00:00, 195.58it/s]\n",
            "                                                              \r"
          ]
        },
        {
          "name": "stdout",
          "output_type": "stream",
          "text": [
            "Epoch 40/100 | Train Loss: 0.3684 | Train Acc: 0.8517 | Val Loss: 0.3627 | Val Acc: 0.8491\n"
          ]
        },
        {
          "name": "stderr",
          "output_type": "stream",
          "text": [
            "Training Epoch 41/100: 100%|██████████| 938/938 [00:04<00:00, 195.03it/s]\n",
            "                                                              \r"
          ]
        },
        {
          "name": "stdout",
          "output_type": "stream",
          "text": [
            "Epoch 41/100 | Train Loss: 0.3617 | Train Acc: 0.8545 | Val Loss: 0.3842 | Val Acc: 0.8391\n"
          ]
        },
        {
          "name": "stderr",
          "output_type": "stream",
          "text": [
            "Training Epoch 42/100: 100%|██████████| 938/938 [00:05<00:00, 187.35it/s]\n",
            "                                                              \r"
          ]
        },
        {
          "name": "stdout",
          "output_type": "stream",
          "text": [
            "Epoch 42/100 | Train Loss: 0.3551 | Train Acc: 0.8519 | Val Loss: 0.3737 | Val Acc: 0.8494\n"
          ]
        },
        {
          "name": "stderr",
          "output_type": "stream",
          "text": [
            "Training Epoch 43/100: 100%|██████████| 938/938 [00:04<00:00, 203.25it/s]\n",
            "                                                              \r"
          ]
        },
        {
          "name": "stdout",
          "output_type": "stream",
          "text": [
            "Epoch 43/100 | Train Loss: 0.3550 | Train Acc: 0.8575 | Val Loss: 0.3645 | Val Acc: 0.8517\n"
          ]
        },
        {
          "name": "stderr",
          "output_type": "stream",
          "text": [
            "Training Epoch 44/100: 100%|██████████| 938/938 [00:04<00:00, 198.03it/s]\n",
            "                                                              \r"
          ]
        },
        {
          "name": "stdout",
          "output_type": "stream",
          "text": [
            "Epoch 44/100 | Train Loss: 0.3461 | Train Acc: 0.8621 | Val Loss: 0.3735 | Val Acc: 0.8494\n"
          ]
        },
        {
          "name": "stderr",
          "output_type": "stream",
          "text": [
            "Training Epoch 45/100: 100%|██████████| 938/938 [00:04<00:00, 206.05it/s]\n",
            "                                                              \r"
          ]
        },
        {
          "name": "stdout",
          "output_type": "stream",
          "text": [
            "Epoch 45/100 | Train Loss: 0.3419 | Train Acc: 0.8611 | Val Loss: 0.3779 | Val Acc: 0.8511\n"
          ]
        },
        {
          "name": "stderr",
          "output_type": "stream",
          "text": [
            "Training Epoch 46/100: 100%|██████████| 938/938 [00:04<00:00, 191.14it/s]\n",
            "                                                              \r"
          ]
        },
        {
          "name": "stdout",
          "output_type": "stream",
          "text": [
            "Epoch 46/100 | Train Loss: 0.3403 | Train Acc: 0.8614 | Val Loss: 0.3793 | Val Acc: 0.8431\n"
          ]
        },
        {
          "name": "stderr",
          "output_type": "stream",
          "text": [
            "Training Epoch 47/100: 100%|██████████| 938/938 [00:04<00:00, 204.35it/s]\n",
            "                                                              \r"
          ]
        },
        {
          "name": "stdout",
          "output_type": "stream",
          "text": [
            "Epoch 47/100 | Train Loss: 0.3411 | Train Acc: 0.8635 | Val Loss: 0.3548 | Val Acc: 0.8534\n"
          ]
        },
        {
          "name": "stderr",
          "output_type": "stream",
          "text": [
            "Training Epoch 48/100: 100%|██████████| 938/938 [00:04<00:00, 202.60it/s]\n",
            "                                                              \r"
          ]
        },
        {
          "name": "stdout",
          "output_type": "stream",
          "text": [
            "Epoch 48/100 | Train Loss: 0.3412 | Train Acc: 0.8614 | Val Loss: 0.3947 | Val Acc: 0.8404\n"
          ]
        },
        {
          "name": "stderr",
          "output_type": "stream",
          "text": [
            "Training Epoch 49/100: 100%|██████████| 938/938 [00:04<00:00, 200.32it/s]\n",
            "                                                              \r"
          ]
        },
        {
          "name": "stdout",
          "output_type": "stream",
          "text": [
            "Epoch 49/100 | Train Loss: 0.3295 | Train Acc: 0.8661 | Val Loss: 0.3547 | Val Acc: 0.8584\n"
          ]
        },
        {
          "name": "stderr",
          "output_type": "stream",
          "text": [
            "Training Epoch 50/100: 100%|██████████| 938/938 [00:04<00:00, 205.26it/s]\n",
            "                                                              \r"
          ]
        },
        {
          "name": "stdout",
          "output_type": "stream",
          "text": [
            "Epoch 50/100 | Train Loss: 0.3236 | Train Acc: 0.8711 | Val Loss: 0.3876 | Val Acc: 0.8501\n"
          ]
        },
        {
          "name": "stderr",
          "output_type": "stream",
          "text": [
            "Training Epoch 51/100: 100%|██████████| 938/938 [00:04<00:00, 204.43it/s]\n",
            "                                                              \r"
          ]
        },
        {
          "name": "stdout",
          "output_type": "stream",
          "text": [
            "Epoch 51/100 | Train Loss: 0.3238 | Train Acc: 0.8705 | Val Loss: 0.4332 | Val Acc: 0.8278\n"
          ]
        },
        {
          "name": "stderr",
          "output_type": "stream",
          "text": [
            "Training Epoch 52/100: 100%|██████████| 938/938 [00:04<00:00, 204.53it/s]\n",
            "                                                              \r"
          ]
        },
        {
          "name": "stdout",
          "output_type": "stream",
          "text": [
            "Epoch 52/100 | Train Loss: 0.3267 | Train Acc: 0.8678 | Val Loss: 0.3723 | Val Acc: 0.8501\n"
          ]
        },
        {
          "name": "stderr",
          "output_type": "stream",
          "text": [
            "Training Epoch 53/100: 100%|██████████| 938/938 [00:04<00:00, 204.82it/s]\n",
            "                                                              \r"
          ]
        },
        {
          "name": "stdout",
          "output_type": "stream",
          "text": [
            "Epoch 53/100 | Train Loss: 0.3173 | Train Acc: 0.8737 | Val Loss: 0.3658 | Val Acc: 0.8471\n"
          ]
        },
        {
          "name": "stderr",
          "output_type": "stream",
          "text": [
            "Training Epoch 54/100: 100%|██████████| 938/938 [00:04<00:00, 197.54it/s]\n",
            "                                                              \r"
          ]
        },
        {
          "name": "stdout",
          "output_type": "stream",
          "text": [
            "Epoch 54/100 | Train Loss: 0.3166 | Train Acc: 0.8764 | Val Loss: 0.3518 | Val Acc: 0.8567\n"
          ]
        },
        {
          "name": "stderr",
          "output_type": "stream",
          "text": [
            "Training Epoch 55/100: 100%|██████████| 938/938 [00:04<00:00, 206.65it/s]\n",
            "                                                              \r"
          ]
        },
        {
          "name": "stdout",
          "output_type": "stream",
          "text": [
            "Epoch 55/100 | Train Loss: 0.3123 | Train Acc: 0.8757 | Val Loss: 0.3517 | Val Acc: 0.8507\n"
          ]
        },
        {
          "name": "stderr",
          "output_type": "stream",
          "text": [
            "Training Epoch 56/100: 100%|██████████| 938/938 [00:04<00:00, 205.25it/s]\n",
            "                                                              \r"
          ]
        },
        {
          "name": "stdout",
          "output_type": "stream",
          "text": [
            "Epoch 56/100 | Train Loss: 0.3122 | Train Acc: 0.8755 | Val Loss: 0.3469 | Val Acc: 0.8570\n"
          ]
        },
        {
          "name": "stderr",
          "output_type": "stream",
          "text": [
            "Training Epoch 57/100: 100%|██████████| 938/938 [00:04<00:00, 203.70it/s]\n",
            "                                                              \r"
          ]
        },
        {
          "name": "stdout",
          "output_type": "stream",
          "text": [
            "Epoch 57/100 | Train Loss: 0.3112 | Train Acc: 0.8753 | Val Loss: 0.3632 | Val Acc: 0.8484\n"
          ]
        },
        {
          "name": "stderr",
          "output_type": "stream",
          "text": [
            "Training Epoch 58/100: 100%|██████████| 938/938 [00:04<00:00, 206.60it/s]\n",
            "                                                              \r"
          ]
        },
        {
          "name": "stdout",
          "output_type": "stream",
          "text": [
            "Epoch 58/100 | Train Loss: 0.3035 | Train Acc: 0.8787 | Val Loss: 0.3379 | Val Acc: 0.8590\n"
          ]
        },
        {
          "name": "stderr",
          "output_type": "stream",
          "text": [
            "Training Epoch 59/100: 100%|██████████| 938/938 [00:04<00:00, 201.87it/s]\n",
            "                                                              \r"
          ]
        },
        {
          "name": "stdout",
          "output_type": "stream",
          "text": [
            "Epoch 59/100 | Train Loss: 0.3059 | Train Acc: 0.8748 | Val Loss: 0.3557 | Val Acc: 0.8541\n"
          ]
        },
        {
          "name": "stderr",
          "output_type": "stream",
          "text": [
            "Training Epoch 60/100: 100%|██████████| 938/938 [00:04<00:00, 201.15it/s]\n",
            "                                                              \r"
          ]
        },
        {
          "name": "stdout",
          "output_type": "stream",
          "text": [
            "Epoch 60/100 | Train Loss: 0.3019 | Train Acc: 0.8815 | Val Loss: 0.3353 | Val Acc: 0.8627\n"
          ]
        },
        {
          "name": "stderr",
          "output_type": "stream",
          "text": [
            "Training Epoch 61/100: 100%|██████████| 938/938 [00:04<00:00, 203.37it/s]\n",
            "                                                              \r"
          ]
        },
        {
          "name": "stdout",
          "output_type": "stream",
          "text": [
            "Epoch 61/100 | Train Loss: 0.2998 | Train Acc: 0.8808 | Val Loss: 0.3531 | Val Acc: 0.8531\n"
          ]
        },
        {
          "name": "stderr",
          "output_type": "stream",
          "text": [
            "Training Epoch 62/100: 100%|██████████| 938/938 [00:04<00:00, 193.35it/s]\n",
            "                                                              \r"
          ]
        },
        {
          "name": "stdout",
          "output_type": "stream",
          "text": [
            "Epoch 62/100 | Train Loss: 0.2938 | Train Acc: 0.8839 | Val Loss: 0.3317 | Val Acc: 0.8620\n"
          ]
        },
        {
          "name": "stderr",
          "output_type": "stream",
          "text": [
            "Training Epoch 63/100: 100%|██████████| 938/938 [00:04<00:00, 197.54it/s]\n",
            "                                                              \r"
          ]
        },
        {
          "name": "stdout",
          "output_type": "stream",
          "text": [
            "Epoch 63/100 | Train Loss: 0.2882 | Train Acc: 0.8859 | Val Loss: 0.3715 | Val Acc: 0.8521\n"
          ]
        },
        {
          "name": "stderr",
          "output_type": "stream",
          "text": [
            "Training Epoch 64/100: 100%|██████████| 938/938 [00:04<00:00, 204.89it/s]\n",
            "                                                              \r"
          ]
        },
        {
          "name": "stdout",
          "output_type": "stream",
          "text": [
            "Epoch 64/100 | Train Loss: 0.2926 | Train Acc: 0.8838 | Val Loss: 0.3486 | Val Acc: 0.8570\n"
          ]
        },
        {
          "name": "stderr",
          "output_type": "stream",
          "text": [
            "Training Epoch 65/100: 100%|██████████| 938/938 [00:04<00:00, 205.05it/s]\n",
            "                                                              \r"
          ]
        },
        {
          "name": "stdout",
          "output_type": "stream",
          "text": [
            "Epoch 65/100 | Train Loss: 0.2821 | Train Acc: 0.8882 | Val Loss: 0.3457 | Val Acc: 0.8584\n"
          ]
        },
        {
          "name": "stderr",
          "output_type": "stream",
          "text": [
            "Training Epoch 66/100: 100%|██████████| 938/938 [00:04<00:00, 199.42it/s]\n",
            "                                                              \r"
          ]
        },
        {
          "name": "stdout",
          "output_type": "stream",
          "text": [
            "Epoch 66/100 | Train Loss: 0.2855 | Train Acc: 0.8875 | Val Loss: 0.3369 | Val Acc: 0.8617\n"
          ]
        },
        {
          "name": "stderr",
          "output_type": "stream",
          "text": [
            "Training Epoch 67/100: 100%|██████████| 938/938 [00:04<00:00, 201.99it/s]\n",
            "                                                              \r"
          ]
        },
        {
          "name": "stdout",
          "output_type": "stream",
          "text": [
            "Epoch 67/100 | Train Loss: 0.2822 | Train Acc: 0.8877 | Val Loss: 0.3463 | Val Acc: 0.8607\n"
          ]
        },
        {
          "name": "stderr",
          "output_type": "stream",
          "text": [
            "Training Epoch 68/100: 100%|██████████| 938/938 [00:04<00:00, 201.86it/s]\n",
            "                                                              \r"
          ]
        },
        {
          "name": "stdout",
          "output_type": "stream",
          "text": [
            "Epoch 68/100 | Train Loss: 0.2763 | Train Acc: 0.8899 | Val Loss: 0.3587 | Val Acc: 0.8604\n"
          ]
        },
        {
          "name": "stderr",
          "output_type": "stream",
          "text": [
            "Training Epoch 69/100: 100%|██████████| 938/938 [00:04<00:00, 203.54it/s]\n",
            "                                                              \r"
          ]
        },
        {
          "name": "stdout",
          "output_type": "stream",
          "text": [
            "Epoch 69/100 | Train Loss: 0.2849 | Train Acc: 0.8879 | Val Loss: 0.3374 | Val Acc: 0.8680\n"
          ]
        },
        {
          "name": "stderr",
          "output_type": "stream",
          "text": [
            "Training Epoch 70/100: 100%|██████████| 938/938 [00:04<00:00, 202.01it/s]\n",
            "                                                              \r"
          ]
        },
        {
          "name": "stdout",
          "output_type": "stream",
          "text": [
            "Epoch 70/100 | Train Loss: 0.2719 | Train Acc: 0.8944 | Val Loss: 0.3636 | Val Acc: 0.8501\n"
          ]
        },
        {
          "name": "stderr",
          "output_type": "stream",
          "text": [
            "Training Epoch 71/100: 100%|██████████| 938/938 [00:04<00:00, 194.51it/s]\n",
            "                                                              \r"
          ]
        },
        {
          "name": "stdout",
          "output_type": "stream",
          "text": [
            "Epoch 71/100 | Train Loss: 0.2721 | Train Acc: 0.8939 | Val Loss: 0.3324 | Val Acc: 0.8634\n"
          ]
        },
        {
          "name": "stderr",
          "output_type": "stream",
          "text": [
            "Training Epoch 72/100: 100%|██████████| 938/938 [00:04<00:00, 200.66it/s]\n",
            "                                                              \r"
          ]
        },
        {
          "name": "stdout",
          "output_type": "stream",
          "text": [
            "Epoch 72/100 | Train Loss: 0.2678 | Train Acc: 0.8941 | Val Loss: 0.3577 | Val Acc: 0.8524\n"
          ]
        },
        {
          "name": "stderr",
          "output_type": "stream",
          "text": [
            "Training Epoch 73/100: 100%|██████████| 938/938 [00:04<00:00, 198.55it/s]\n",
            "                                                              \r"
          ]
        },
        {
          "name": "stdout",
          "output_type": "stream",
          "text": [
            "Epoch 73/100 | Train Loss: 0.2671 | Train Acc: 0.8973 | Val Loss: 0.3282 | Val Acc: 0.8667\n"
          ]
        },
        {
          "name": "stderr",
          "output_type": "stream",
          "text": [
            "Training Epoch 74/100: 100%|██████████| 938/938 [00:04<00:00, 200.83it/s]\n",
            "                                                              \r"
          ]
        },
        {
          "name": "stdout",
          "output_type": "stream",
          "text": [
            "Epoch 74/100 | Train Loss: 0.2657 | Train Acc: 0.8951 | Val Loss: 0.3223 | Val Acc: 0.8727\n"
          ]
        },
        {
          "name": "stderr",
          "output_type": "stream",
          "text": [
            "Training Epoch 75/100: 100%|██████████| 938/938 [00:04<00:00, 198.40it/s]\n",
            "                                                              \r"
          ]
        },
        {
          "name": "stdout",
          "output_type": "stream",
          "text": [
            "Epoch 75/100 | Train Loss: 0.2723 | Train Acc: 0.8939 | Val Loss: 0.3441 | Val Acc: 0.8604\n"
          ]
        },
        {
          "name": "stderr",
          "output_type": "stream",
          "text": [
            "Training Epoch 76/100: 100%|██████████| 938/938 [00:04<00:00, 197.52it/s]\n",
            "                                                              \r"
          ]
        },
        {
          "name": "stdout",
          "output_type": "stream",
          "text": [
            "Epoch 76/100 | Train Loss: 0.2647 | Train Acc: 0.8972 | Val Loss: 0.3161 | Val Acc: 0.8700\n"
          ]
        },
        {
          "name": "stderr",
          "output_type": "stream",
          "text": [
            "Training Epoch 77/100: 100%|██████████| 938/938 [00:04<00:00, 206.98it/s]\n",
            "                                                              \r"
          ]
        },
        {
          "name": "stdout",
          "output_type": "stream",
          "text": [
            "Epoch 77/100 | Train Loss: 0.2569 | Train Acc: 0.8995 | Val Loss: 0.3404 | Val Acc: 0.8604\n"
          ]
        },
        {
          "name": "stderr",
          "output_type": "stream",
          "text": [
            "Training Epoch 78/100: 100%|██████████| 938/938 [00:04<00:00, 205.26it/s]\n",
            "                                                              \r"
          ]
        },
        {
          "name": "stdout",
          "output_type": "stream",
          "text": [
            "Epoch 78/100 | Train Loss: 0.2569 | Train Acc: 0.8974 | Val Loss: 0.3316 | Val Acc: 0.8687\n"
          ]
        },
        {
          "name": "stderr",
          "output_type": "stream",
          "text": [
            "Training Epoch 79/100: 100%|██████████| 938/938 [00:04<00:00, 203.31it/s]\n",
            "                                                              \r"
          ]
        },
        {
          "name": "stdout",
          "output_type": "stream",
          "text": [
            "Epoch 79/100 | Train Loss: 0.2553 | Train Acc: 0.8985 | Val Loss: 0.3325 | Val Acc: 0.8640\n"
          ]
        },
        {
          "name": "stderr",
          "output_type": "stream",
          "text": [
            "Training Epoch 80/100: 100%|██████████| 938/938 [00:04<00:00, 203.12it/s]\n",
            "                                                              \r"
          ]
        },
        {
          "name": "stdout",
          "output_type": "stream",
          "text": [
            "Epoch 80/100 | Train Loss: 0.2481 | Train Acc: 0.9046 | Val Loss: 0.3323 | Val Acc: 0.8693\n"
          ]
        },
        {
          "name": "stderr",
          "output_type": "stream",
          "text": [
            "Training Epoch 81/100: 100%|██████████| 938/938 [00:04<00:00, 197.16it/s]\n",
            "                                                              \r"
          ]
        },
        {
          "name": "stdout",
          "output_type": "stream",
          "text": [
            "Epoch 81/100 | Train Loss: 0.2503 | Train Acc: 0.9020 | Val Loss: 0.3414 | Val Acc: 0.8693\n"
          ]
        },
        {
          "name": "stderr",
          "output_type": "stream",
          "text": [
            "Training Epoch 82/100: 100%|██████████| 938/938 [00:05<00:00, 175.00it/s]\n",
            "                                                              \r"
          ]
        },
        {
          "name": "stdout",
          "output_type": "stream",
          "text": [
            "Epoch 82/100 | Train Loss: 0.2458 | Train Acc: 0.9039 | Val Loss: 0.3761 | Val Acc: 0.8527\n"
          ]
        },
        {
          "name": "stderr",
          "output_type": "stream",
          "text": [
            "Training Epoch 83/100: 100%|██████████| 938/938 [00:05<00:00, 168.78it/s]\n",
            "                                                              \r"
          ]
        },
        {
          "name": "stdout",
          "output_type": "stream",
          "text": [
            "Epoch 83/100 | Train Loss: 0.2484 | Train Acc: 0.9033 | Val Loss: 0.3229 | Val Acc: 0.8693\n"
          ]
        },
        {
          "name": "stderr",
          "output_type": "stream",
          "text": [
            "Training Epoch 84/100: 100%|██████████| 938/938 [00:05<00:00, 160.08it/s]\n",
            "                                                              \r"
          ]
        },
        {
          "name": "stdout",
          "output_type": "stream",
          "text": [
            "Epoch 84/100 | Train Loss: 0.2511 | Train Acc: 0.9050 | Val Loss: 0.3221 | Val Acc: 0.8700\n"
          ]
        },
        {
          "name": "stderr",
          "output_type": "stream",
          "text": [
            "Training Epoch 85/100: 100%|██████████| 938/938 [00:05<00:00, 177.33it/s]\n",
            "                                                              \r"
          ]
        },
        {
          "name": "stdout",
          "output_type": "stream",
          "text": [
            "Epoch 85/100 | Train Loss: 0.2453 | Train Acc: 0.9048 | Val Loss: 0.3312 | Val Acc: 0.8707\n"
          ]
        },
        {
          "name": "stderr",
          "output_type": "stream",
          "text": [
            "Training Epoch 86/100: 100%|██████████| 938/938 [00:05<00:00, 168.13it/s]\n",
            "                                                              \r"
          ]
        },
        {
          "name": "stdout",
          "output_type": "stream",
          "text": [
            "Epoch 86/100 | Train Loss: 0.2419 | Train Acc: 0.9059 | Val Loss: 0.3156 | Val Acc: 0.8697\n"
          ]
        },
        {
          "name": "stderr",
          "output_type": "stream",
          "text": [
            "Training Epoch 87/100: 100%|██████████| 938/938 [00:05<00:00, 169.09it/s]\n",
            "                                                              \r"
          ]
        },
        {
          "name": "stdout",
          "output_type": "stream",
          "text": [
            "Epoch 87/100 | Train Loss: 0.2439 | Train Acc: 0.9056 | Val Loss: 0.3436 | Val Acc: 0.8624\n"
          ]
        },
        {
          "name": "stderr",
          "output_type": "stream",
          "text": [
            "Training Epoch 88/100: 100%|██████████| 938/938 [00:05<00:00, 173.40it/s]\n",
            "                                                              \r"
          ]
        },
        {
          "name": "stdout",
          "output_type": "stream",
          "text": [
            "Epoch 88/100 | Train Loss: 0.2422 | Train Acc: 0.9047 | Val Loss: 0.3391 | Val Acc: 0.8644\n"
          ]
        },
        {
          "name": "stderr",
          "output_type": "stream",
          "text": [
            "Training Epoch 89/100: 100%|██████████| 938/938 [00:05<00:00, 163.79it/s]\n",
            "                                                              \r"
          ]
        },
        {
          "name": "stdout",
          "output_type": "stream",
          "text": [
            "Epoch 89/100 | Train Loss: 0.2378 | Train Acc: 0.9076 | Val Loss: 0.3234 | Val Acc: 0.8757\n"
          ]
        },
        {
          "name": "stderr",
          "output_type": "stream",
          "text": [
            "Training Epoch 90/100: 100%|██████████| 938/938 [00:04<00:00, 202.95it/s]\n",
            "                                                              \r"
          ]
        },
        {
          "name": "stdout",
          "output_type": "stream",
          "text": [
            "Epoch 90/100 | Train Loss: 0.2316 | Train Acc: 0.9106 | Val Loss: 0.3263 | Val Acc: 0.8713\n"
          ]
        },
        {
          "name": "stderr",
          "output_type": "stream",
          "text": [
            "Training Epoch 91/100: 100%|██████████| 938/938 [00:05<00:00, 167.80it/s]\n",
            "                                                              \r"
          ]
        },
        {
          "name": "stdout",
          "output_type": "stream",
          "text": [
            "Epoch 91/100 | Train Loss: 0.2318 | Train Acc: 0.9114 | Val Loss: 0.3327 | Val Acc: 0.8680\n"
          ]
        },
        {
          "name": "stderr",
          "output_type": "stream",
          "text": [
            "Training Epoch 92/100: 100%|██████████| 938/938 [00:05<00:00, 166.60it/s]\n",
            "                                                              \r"
          ]
        },
        {
          "name": "stdout",
          "output_type": "stream",
          "text": [
            "Epoch 92/100 | Train Loss: 0.2336 | Train Acc: 0.9102 | Val Loss: 0.3314 | Val Acc: 0.8747\n"
          ]
        },
        {
          "name": "stderr",
          "output_type": "stream",
          "text": [
            "Training Epoch 93/100: 100%|██████████| 938/938 [00:05<00:00, 173.35it/s]\n",
            "                                                              \r"
          ]
        },
        {
          "name": "stdout",
          "output_type": "stream",
          "text": [
            "Epoch 93/100 | Train Loss: 0.2301 | Train Acc: 0.9120 | Val Loss: 0.3254 | Val Acc: 0.8710\n"
          ]
        },
        {
          "name": "stderr",
          "output_type": "stream",
          "text": [
            "Training Epoch 94/100: 100%|██████████| 938/938 [00:05<00:00, 167.32it/s]\n",
            "                                                              \r"
          ]
        },
        {
          "name": "stdout",
          "output_type": "stream",
          "text": [
            "Epoch 94/100 | Train Loss: 0.2226 | Train Acc: 0.9122 | Val Loss: 0.3051 | Val Acc: 0.8803\n"
          ]
        },
        {
          "name": "stderr",
          "output_type": "stream",
          "text": [
            "Training Epoch 95/100: 100%|██████████| 938/938 [00:05<00:00, 172.22it/s]\n",
            "                                                              \r"
          ]
        },
        {
          "name": "stdout",
          "output_type": "stream",
          "text": [
            "Epoch 95/100 | Train Loss: 0.2227 | Train Acc: 0.9148 | Val Loss: 0.3490 | Val Acc: 0.8630\n"
          ]
        },
        {
          "name": "stderr",
          "output_type": "stream",
          "text": [
            "Training Epoch 96/100: 100%|██████████| 938/938 [00:04<00:00, 189.92it/s]\n",
            "                                                              \r"
          ]
        },
        {
          "name": "stdout",
          "output_type": "stream",
          "text": [
            "Epoch 96/100 | Train Loss: 0.2186 | Train Acc: 0.9140 | Val Loss: 0.3326 | Val Acc: 0.8713\n"
          ]
        },
        {
          "name": "stderr",
          "output_type": "stream",
          "text": [
            "Training Epoch 97/100: 100%|██████████| 938/938 [00:04<00:00, 206.24it/s]\n",
            "                                                              \r"
          ]
        },
        {
          "name": "stdout",
          "output_type": "stream",
          "text": [
            "Epoch 97/100 | Train Loss: 0.2220 | Train Acc: 0.9154 | Val Loss: 0.3223 | Val Acc: 0.8680\n"
          ]
        },
        {
          "name": "stderr",
          "output_type": "stream",
          "text": [
            "Training Epoch 98/100: 100%|██████████| 938/938 [00:04<00:00, 203.08it/s]\n",
            "                                                              \r"
          ]
        },
        {
          "name": "stdout",
          "output_type": "stream",
          "text": [
            "Epoch 98/100 | Train Loss: 0.2169 | Train Acc: 0.9159 | Val Loss: 0.3281 | Val Acc: 0.8634\n"
          ]
        },
        {
          "name": "stderr",
          "output_type": "stream",
          "text": [
            "Training Epoch 99/100: 100%|██████████| 938/938 [00:04<00:00, 202.51it/s]\n",
            "                                                              \r"
          ]
        },
        {
          "name": "stdout",
          "output_type": "stream",
          "text": [
            "Epoch 99/100 | Train Loss: 0.2226 | Train Acc: 0.9144 | Val Loss: 0.3246 | Val Acc: 0.8753\n"
          ]
        },
        {
          "name": "stderr",
          "output_type": "stream",
          "text": [
            "Training Epoch 100/100: 100%|██████████| 938/938 [00:04<00:00, 202.91it/s]\n",
            "                                                              "
          ]
        },
        {
          "name": "stdout",
          "output_type": "stream",
          "text": [
            "Epoch 100/100 | Train Loss: 0.2167 | Train Acc: 0.9151 | Val Loss: 0.3172 | Val Acc: 0.8747\n"
          ]
        },
        {
          "name": "stderr",
          "output_type": "stream",
          "text": [
            "\r"
          ]
        }
      ],
      "source": [
        "model = CNN()\n",
        "history = fit(model, {'train': trainloader, 'test': testloader}, epochs=100)"
      ]
    },
    {
      "cell_type": "markdown",
      "metadata": {},
      "source": [
        "Se define la siguiente función para mostrar la pérdida y el *accuracy* en el conjunto de entrenamiento y validación"
      ]
    },
    {
      "cell_type": "code",
      "execution_count": 120,
      "metadata": {},
      "outputs": [],
      "source": [
        "def plot_history(history):\n",
        "    \"\"\"\n",
        "    Plot the training and validation metrics.\n",
        "    \n",
        "    Parameters:\n",
        "    - history: A dictionary containing the training and validation metrics.\n",
        "    \"\"\"\n",
        "    # Get the number of epochs\n",
        "    epochs = range(1, len(history['train_loss']) + 1)\n",
        "    \n",
        "    # Apply a style\n",
        "    plt.style.use('seaborn-darkgrid')  \n",
        "    \n",
        "    # Create a figure and a set of subplots\n",
        "    plt.figure(figsize=(12, 6))\n",
        "    \n",
        "    # Plotting Training & Validation Loss\n",
        "    plt.subplot(1, 2, 1)\n",
        "    plt.plot(epochs, history['train_loss'], label='Training Loss', color='royalblue', linewidth=2)\n",
        "    plt.plot(epochs, history['val_loss'], label='Validation Loss', color='darkorange', linewidth=2)\n",
        "    plt.title('Training and Validation Loss', fontsize=16)\n",
        "    plt.xlabel('Epochs', fontsize=14)\n",
        "    plt.ylabel('Loss', fontsize=14)\n",
        "    plt.legend(fontsize=12)\n",
        "    plt.grid(True)\n",
        "    \n",
        "    # Plotting Training & Validation Accuracy\n",
        "    plt.subplot(1, 2, 2)\n",
        "    plt.plot(epochs, history['train_acc'], label='Training Accuracy', color='royalblue', linewidth=2)\n",
        "    plt.plot(epochs, history['val_acc'], label='Validation Accuracy', color='darkorange', linewidth=2)\n",
        "    plt.title('Training and Validation Accuracy', fontsize=16)\n",
        "    plt.xlabel('Epochs', fontsize=14)\n",
        "    plt.ylabel('Accuracy', fontsize=14)\n",
        "    plt.legend(fontsize=12)\n",
        "    plt.grid(True)\n",
        "    \n",
        "    plt.tight_layout()\n",
        "    plt.show()"
      ]
    },
    {
      "cell_type": "markdown",
      "metadata": {},
      "source": [
        "En la siguiente celda, se muestra el comportamiento de la pérdida y el *accuracy* en el conjunto de entrenamiento y validación durante el entrenamiento del modelo con `kernel_size=3`."
      ]
    },
    {
      "cell_type": "code",
      "execution_count": 122,
      "metadata": {},
      "outputs": [
        {
          "name": "stderr",
          "output_type": "stream",
          "text": [
            "/tmp/ipykernel_2685/1010231979.py:12: MatplotlibDeprecationWarning: The seaborn styles shipped by Matplotlib are deprecated since 3.6, as they no longer correspond to the styles shipped by seaborn. However, they will remain available as 'seaborn-v0_8-<style>'. Alternatively, directly use the seaborn API instead.\n",
            "  plt.style.use('seaborn-darkgrid')\n"
          ]
        },
        {
          "data": {
            "image/png": "[encoded data removed]",
            "text/plain": [
              "<Figure size 1200x600 with 2 Axes>"
            ]
          },
          "metadata": {},
          "output_type": "display_data"
        }
      ],
      "source": [
        "plot_history(history)"
      ]
    },
    {
      "cell_type": "markdown",
      "metadata": {},
      "source": [
        "Como se puede ver en las gráficas, el modelo alcanza una precisión aproximada de 0.90 en el conjunto de entrenamiento y 0.8747 en el conjunto de validación. No se observan signos de *overfitting*, ya que la pérdida y el *accuracy* en el conjunto de validación siguen tendencias similares a las del conjunto de entrenamiento. Además, la diferencia entre ambas no es significativa en los últimos epochs, lo que indica que el modelo está generalizando bien y no se ha sobreajustado a los datos de entrenamiento."
      ]
    },
    {
      "cell_type": "code",
      "execution_count": 142,
      "metadata": {},
      "outputs": [],
      "source": [
        "def evaluate_model(model, dataloader, class_names):\n",
        "    \"\"\"\n",
        "    Evaluate the model using the given data.\n",
        "    \n",
        "    Parameters:\n",
        "    - model: The model to evaluate.\n",
        "    - dataloader: The DataLoader object containing the test data.\n",
        "    - class_names: A list of class names corresponding to the target classes.\n",
        "    \n",
        "    Returns:\n",
        "    - A dictionary containing the evaluation\n",
        "      metrics, a classification report, and \n",
        "      the confusion matrix.\n",
        "    \"\"\"\n",
        "    # Set the model to evaluation mode\n",
        "    model.eval()\n",
        "    \n",
        "    # Lists to store the predictions and labels\n",
        "    all_preds = []\n",
        "    all_labels = []\n",
        "\n",
        "    # Disable gradient computation\n",
        "    with torch.no_grad():\n",
        "        for batch in dataloader:\n",
        "            # Get the input data and move it to the device\n",
        "            X, y = batch\n",
        "            X, y = X.to(device), y.to(device)\n",
        "            \n",
        "            # Forward pass\n",
        "            y_hat = model(X)\n",
        "           \n",
        "            # Get the predicted labels\n",
        "            preds = y_hat.argmax(dim=1)\n",
        "            \n",
        "            # Store the predictions and labels\n",
        "            all_preds.extend(preds.cpu().numpy())\n",
        "            all_labels.extend(y.cpu().numpy())\n",
        "\n",
        "    # Generate a classification report (includes precision, recall, f1-score per class)\n",
        "    class_report = classification_report(all_labels, all_preds, target_names=class_names, output_dict=True)\n",
        "    \n",
        "    # Convert the classification report to a DataFrame\n",
        "    report_df = pd.DataFrame(class_report).transpose()\n",
        "\n",
        "    # Round the values in the DataFrame to 2 decimal places\n",
        "    report_df = report_df.round(2)\n",
        "\n",
        "    # Generate confusion matrix\n",
        "    conf_matrix = confusion_matrix(all_labels, all_preds)\n",
        "\n",
        "    # Store metrics, classification report, and confusion matrix in a dictionary\n",
        "    evaluation_results = {\n",
        "        'classification_report': report_df,\n",
        "        'confusion_matrix': conf_matrix\n",
        "    }\n",
        "\n",
        "    return evaluation_results"
      ]
    },
    {
      "cell_type": "code",
      "execution_count": 143,
      "metadata": {},
      "outputs": [],
      "source": [
        "# Define your class names\n",
        "selected_classes = ['cat', 'dog', 'frog']\n",
        "\n",
        "# After training the model, evaluate it using the test set\n",
        "results = evaluate_model(model, testloader, selected_classes)"
      ]
    },
    {
      "cell_type": "code",
      "execution_count": 144,
      "metadata": {},
      "outputs": [
        {
          "name": "stdout",
          "output_type": "stream",
          "text": [
            "              precision  recall  f1-score  support\n",
            "cat                0.80    0.85      0.83  1000.00\n",
            "dog                0.88    0.81      0.84  1000.00\n",
            "frog               0.94    0.95      0.95  1000.00\n",
            "accuracy           0.87    0.87      0.87     0.87\n",
            "macro avg          0.87    0.87      0.87  3000.00\n",
            "weighted avg       0.87    0.87      0.87  3000.00\n"
          ]
        }
      ],
      "source": [
        "# Display the classification report\n",
        "print(results['classification_report'])"
      ]
    },
    {
      "cell_type": "code",
      "execution_count": 145,
      "metadata": {},
      "outputs": [
        {
          "data": {
            "image/png": "[encoded data removed]",
            "text/plain": [
              "<Figure size 800x600 with 2 Axes>"
            ]
          },
          "metadata": {},
          "output_type": "display_data"
        }
      ],
      "source": [
        "conf_matrix = results['confusion_matrix']\n",
        "\n",
        "plt.figure(figsize=(8, 6))\n",
        "sns.heatmap(conf_matrix, annot=True, fmt=\"d\", cmap='Blues', xticklabels=selected_classes, yticklabels=selected_classes)\n",
        "plt.xlabel('Predicted Label')\n",
        "plt.ylabel('True Label')\n",
        "plt.title('Confusion Matrix')\n",
        "plt.show()"
      ]
    },
    {
      "cell_type": "code",
      "execution_count": 162,
      "metadata": {},
      "outputs": [],
      "source": [
        "def save_model_with_metrics(model, history, path=\"\", filename_prefix=\"model\", kernel_size=None):\n",
        "    \"\"\"\n",
        "    Save the model with a filename that includes the final validation loss and accuracy.\n",
        "\n",
        "    Parameters:\n",
        "    - model: The PyTorch model to be saved.\n",
        "    - history: A dictionary containing the training history with keys 'train_loss', 'val_loss', 'train_acc', 'val_acc'.\n",
        "    - path: The directory path where the model will be saved (default is the current directory).\n",
        "    - filename_prefix: A prefix for the filename (default is \"model\").\n",
        "    - kernel_size: Optional kernel size to include in the filename.\n",
        "\n",
        "    Returns:\n",
        "    - model_filename: The filename used to save the model.\n",
        "    \"\"\"\n",
        "    # Obtaining the final metrics\n",
        "    final_train_loss = list(history['train_loss'])[-1]\n",
        "    final_val_loss = list(history['val_loss'])[-1]\n",
        "    final_train_acc = list(history['train_acc'])[-1]\n",
        "    final_val_acc = list(history['val_acc'])[-1]\n",
        "\n",
        "    # Create a filename for the model\n",
        "    if kernel_size is not None:\n",
        "        model_filename = f\"{filename_prefix}_kernel{kernel_size}_loss{final_val_loss:.2f}_acc{final_val_acc:.2f}.pth\"\n",
        "    else:\n",
        "        model_filename = f\"{filename_prefix}_loss{final_val_loss:.2f}_acc{final_val_acc:.2f}.pth\"\n",
        "\n",
        "    # Combine the path and filename\n",
        "    full_path = os.path.join(path, model_filename)\n",
        "\n",
        "    # Save the model to a file\n",
        "    torch.save(model.state_dict(), full_path)\n",
        "\n",
        "    print(f'Model saved as {full_path}')\n",
        "    return full_path"
      ]
    },
    {
      "cell_type": "code",
      "execution_count": 163,
      "metadata": {},
      "outputs": [
        {
          "name": "stdout",
          "output_type": "stream",
          "text": [
            "Model saved as models/cifar10_cnn_kernel5_loss0.32_acc0.87.pth\n"
          ]
        }
      ],
      "source": [
        "model_filename = save_model_with_metrics(model, history, path=\"models\", filename_prefix=\"cifar10_cnn\", kernel_size=5)"
      ]
    },
    {
      "cell_type": "markdown",
      "metadata": {},
      "source": [
        "#  Experimento con tamaño de kernel 7x7"
      ]
    },
    {
      "cell_type": "markdown",
      "metadata": {},
      "source": [
        "En esta sección, se entrenará el modelo con un tamaño de kernel de 7x7 y se evaluará su comportamiento en términos de la pérdida y el *accuracy*."
      ]
    },
    {
      "cell_type": "code",
      "execution_count": 167,
      "metadata": {},
      "outputs": [
        {
          "name": "stderr",
          "output_type": "stream",
          "text": [
            "Training Epoch 1/100: 100%|██████████| 938/938 [00:05<00:00, 164.87it/s]\n",
            "                                                              \r"
          ]
        },
        {
          "name": "stdout",
          "output_type": "stream",
          "text": [
            "Epoch 1/100 | Train Loss: 0.8868 | Train Acc: 0.5636 | Val Loss: 0.7905 | Val Acc: 0.6273\n"
          ]
        },
        {
          "name": "stderr",
          "output_type": "stream",
          "text": [
            "Training Epoch 2/100: 100%|██████████| 938/938 [00:05<00:00, 185.37it/s]\n",
            "                                                              \r"
          ]
        },
        {
          "name": "stdout",
          "output_type": "stream",
          "text": [
            "Epoch 2/100 | Train Loss: 0.7759 | Train Acc: 0.6283 | Val Loss: 0.7090 | Val Acc: 0.6702\n"
          ]
        },
        {
          "name": "stderr",
          "output_type": "stream",
          "text": [
            "Training Epoch 3/100: 100%|██████████| 938/938 [00:05<00:00, 175.49it/s]\n",
            "                                                              \r"
          ]
        },
        {
          "name": "stdout",
          "output_type": "stream",
          "text": [
            "Epoch 3/100 | Train Loss: 0.7228 | Train Acc: 0.6652 | Val Loss: 0.6626 | Val Acc: 0.6878\n"
          ]
        },
        {
          "name": "stderr",
          "output_type": "stream",
          "text": [
            "Training Epoch 4/100: 100%|██████████| 938/938 [00:05<00:00, 185.95it/s]\n",
            "                                                              \r"
          ]
        },
        {
          "name": "stdout",
          "output_type": "stream",
          "text": [
            "Epoch 4/100 | Train Loss: 0.6980 | Train Acc: 0.6781 | Val Loss: 0.6880 | Val Acc: 0.6828\n"
          ]
        },
        {
          "name": "stderr",
          "output_type": "stream",
          "text": [
            "Training Epoch 5/100: 100%|██████████| 938/938 [00:05<00:00, 181.48it/s]\n",
            "                                                              \r"
          ]
        },
        {
          "name": "stdout",
          "output_type": "stream",
          "text": [
            "Epoch 5/100 | Train Loss: 0.6672 | Train Acc: 0.7011 | Val Loss: 0.6043 | Val Acc: 0.7214\n"
          ]
        },
        {
          "name": "stderr",
          "output_type": "stream",
          "text": [
            "Training Epoch 6/100: 100%|██████████| 938/938 [00:05<00:00, 185.25it/s]\n",
            "                                                              \r"
          ]
        },
        {
          "name": "stdout",
          "output_type": "stream",
          "text": [
            "Epoch 6/100 | Train Loss: 0.6520 | Train Acc: 0.7106 | Val Loss: 0.6029 | Val Acc: 0.7291\n"
          ]
        },
        {
          "name": "stderr",
          "output_type": "stream",
          "text": [
            "Training Epoch 7/100: 100%|██████████| 938/938 [00:05<00:00, 185.29it/s]\n",
            "                                                              \r"
          ]
        },
        {
          "name": "stdout",
          "output_type": "stream",
          "text": [
            "Epoch 7/100 | Train Loss: 0.6281 | Train Acc: 0.7218 | Val Loss: 0.5709 | Val Acc: 0.7467\n"
          ]
        },
        {
          "name": "stderr",
          "output_type": "stream",
          "text": [
            "Training Epoch 8/100: 100%|██████████| 938/938 [00:05<00:00, 185.20it/s]\n",
            "                                                              \r"
          ]
        },
        {
          "name": "stdout",
          "output_type": "stream",
          "text": [
            "Epoch 8/100 | Train Loss: 0.6157 | Train Acc: 0.7283 | Val Loss: 0.6247 | Val Acc: 0.7181\n"
          ]
        },
        {
          "name": "stderr",
          "output_type": "stream",
          "text": [
            "Training Epoch 9/100: 100%|██████████| 938/938 [00:05<00:00, 185.34it/s]\n",
            "                                                              \r"
          ]
        },
        {
          "name": "stdout",
          "output_type": "stream",
          "text": [
            "Epoch 9/100 | Train Loss: 0.5935 | Train Acc: 0.7425 | Val Loss: 0.6027 | Val Acc: 0.7307\n"
          ]
        },
        {
          "name": "stderr",
          "output_type": "stream",
          "text": [
            "Training Epoch 10/100: 100%|██████████| 938/938 [00:05<00:00, 184.49it/s]\n",
            "                                                              \r"
          ]
        },
        {
          "name": "stdout",
          "output_type": "stream",
          "text": [
            "Epoch 10/100 | Train Loss: 0.5813 | Train Acc: 0.7500 | Val Loss: 0.5387 | Val Acc: 0.7703\n"
          ]
        },
        {
          "name": "stderr",
          "output_type": "stream",
          "text": [
            "Training Epoch 11/100: 100%|██████████| 938/938 [00:05<00:00, 184.34it/s]\n",
            "                                                              \r"
          ]
        },
        {
          "name": "stdout",
          "output_type": "stream",
          "text": [
            "Epoch 11/100 | Train Loss: 0.5652 | Train Acc: 0.7529 | Val Loss: 0.6038 | Val Acc: 0.7477\n"
          ]
        },
        {
          "name": "stderr",
          "output_type": "stream",
          "text": [
            "Training Epoch 12/100: 100%|██████████| 938/938 [00:05<00:00, 184.73it/s]\n",
            "                                                              \r"
          ]
        },
        {
          "name": "stdout",
          "output_type": "stream",
          "text": [
            "Epoch 12/100 | Train Loss: 0.5504 | Train Acc: 0.7599 | Val Loss: 0.5232 | Val Acc: 0.7749\n"
          ]
        },
        {
          "name": "stderr",
          "output_type": "stream",
          "text": [
            "Training Epoch 13/100: 100%|██████████| 938/938 [00:05<00:00, 182.65it/s]\n",
            "                                                              \r"
          ]
        },
        {
          "name": "stdout",
          "output_type": "stream",
          "text": [
            "Epoch 13/100 | Train Loss: 0.5444 | Train Acc: 0.7647 | Val Loss: 0.5216 | Val Acc: 0.7723\n"
          ]
        },
        {
          "name": "stderr",
          "output_type": "stream",
          "text": [
            "Training Epoch 14/100: 100%|██████████| 938/938 [00:05<00:00, 183.71it/s]\n",
            "                                                              \r"
          ]
        },
        {
          "name": "stdout",
          "output_type": "stream",
          "text": [
            "Epoch 14/100 | Train Loss: 0.5289 | Train Acc: 0.7712 | Val Loss: 0.5174 | Val Acc: 0.7746\n"
          ]
        },
        {
          "name": "stderr",
          "output_type": "stream",
          "text": [
            "Training Epoch 15/100: 100%|██████████| 938/938 [00:05<00:00, 179.14it/s]\n",
            "                                                              \r"
          ]
        },
        {
          "name": "stdout",
          "output_type": "stream",
          "text": [
            "Epoch 15/100 | Train Loss: 0.5258 | Train Acc: 0.7779 | Val Loss: 0.5121 | Val Acc: 0.7753\n"
          ]
        },
        {
          "name": "stderr",
          "output_type": "stream",
          "text": [
            "Training Epoch 16/100: 100%|██████████| 938/938 [00:05<00:00, 180.05it/s]\n",
            "                                                              \r"
          ]
        },
        {
          "name": "stdout",
          "output_type": "stream",
          "text": [
            "Epoch 16/100 | Train Loss: 0.5107 | Train Acc: 0.7791 | Val Loss: 0.5073 | Val Acc: 0.7753\n"
          ]
        },
        {
          "name": "stderr",
          "output_type": "stream",
          "text": [
            "Training Epoch 17/100: 100%|██████████| 938/938 [00:05<00:00, 182.06it/s]\n",
            "                                                              \r"
          ]
        },
        {
          "name": "stdout",
          "output_type": "stream",
          "text": [
            "Epoch 17/100 | Train Loss: 0.5032 | Train Acc: 0.7858 | Val Loss: 0.4829 | Val Acc: 0.7922\n"
          ]
        },
        {
          "name": "stderr",
          "output_type": "stream",
          "text": [
            "Training Epoch 18/100: 100%|██████████| 938/938 [00:05<00:00, 180.49it/s]\n",
            "                                                              \r"
          ]
        },
        {
          "name": "stdout",
          "output_type": "stream",
          "text": [
            "Epoch 18/100 | Train Loss: 0.4994 | Train Acc: 0.7891 | Val Loss: 0.4777 | Val Acc: 0.7916\n"
          ]
        },
        {
          "name": "stderr",
          "output_type": "stream",
          "text": [
            "Training Epoch 19/100: 100%|██████████| 938/938 [00:05<00:00, 183.35it/s]\n",
            "                                                              \r"
          ]
        },
        {
          "name": "stdout",
          "output_type": "stream",
          "text": [
            "Epoch 19/100 | Train Loss: 0.4916 | Train Acc: 0.7928 | Val Loss: 0.4892 | Val Acc: 0.7836\n"
          ]
        },
        {
          "name": "stderr",
          "output_type": "stream",
          "text": [
            "Training Epoch 20/100: 100%|██████████| 938/938 [00:05<00:00, 176.59it/s]\n",
            "                                                              \r"
          ]
        },
        {
          "name": "stdout",
          "output_type": "stream",
          "text": [
            "Epoch 20/100 | Train Loss: 0.4861 | Train Acc: 0.7973 | Val Loss: 0.4884 | Val Acc: 0.7889\n"
          ]
        },
        {
          "name": "stderr",
          "output_type": "stream",
          "text": [
            "Training Epoch 21/100: 100%|██████████| 938/938 [00:05<00:00, 178.50it/s]\n",
            "                                                              \r"
          ]
        },
        {
          "name": "stdout",
          "output_type": "stream",
          "text": [
            "Epoch 21/100 | Train Loss: 0.4822 | Train Acc: 0.7954 | Val Loss: 0.4839 | Val Acc: 0.7919\n"
          ]
        },
        {
          "name": "stderr",
          "output_type": "stream",
          "text": [
            "Training Epoch 22/100: 100%|██████████| 938/938 [00:05<00:00, 183.69it/s]\n",
            "                                                              \r"
          ]
        },
        {
          "name": "stdout",
          "output_type": "stream",
          "text": [
            "Epoch 22/100 | Train Loss: 0.4711 | Train Acc: 0.8017 | Val Loss: 0.4692 | Val Acc: 0.7929\n"
          ]
        },
        {
          "name": "stderr",
          "output_type": "stream",
          "text": [
            "Training Epoch 23/100: 100%|██████████| 938/938 [00:04<00:00, 189.54it/s]\n",
            "                                                              \r"
          ]
        },
        {
          "name": "stdout",
          "output_type": "stream",
          "text": [
            "Epoch 23/100 | Train Loss: 0.4658 | Train Acc: 0.8057 | Val Loss: 0.4861 | Val Acc: 0.7919\n"
          ]
        },
        {
          "name": "stderr",
          "output_type": "stream",
          "text": [
            "Training Epoch 24/100: 100%|██████████| 938/938 [00:04<00:00, 188.45it/s]\n",
            "                                                              \r"
          ]
        },
        {
          "name": "stdout",
          "output_type": "stream",
          "text": [
            "Epoch 24/100 | Train Loss: 0.4583 | Train Acc: 0.8044 | Val Loss: 0.4563 | Val Acc: 0.8002\n"
          ]
        },
        {
          "name": "stderr",
          "output_type": "stream",
          "text": [
            "Training Epoch 25/100: 100%|██████████| 938/938 [00:05<00:00, 186.68it/s]\n",
            "                                                              \r"
          ]
        },
        {
          "name": "stdout",
          "output_type": "stream",
          "text": [
            "Epoch 25/100 | Train Loss: 0.4532 | Train Acc: 0.8118 | Val Loss: 0.4607 | Val Acc: 0.7942\n"
          ]
        },
        {
          "name": "stderr",
          "output_type": "stream",
          "text": [
            "Training Epoch 26/100: 100%|██████████| 938/938 [00:04<00:00, 188.63it/s]\n",
            "                                                              \r"
          ]
        },
        {
          "name": "stdout",
          "output_type": "stream",
          "text": [
            "Epoch 26/100 | Train Loss: 0.4490 | Train Acc: 0.8130 | Val Loss: 0.4903 | Val Acc: 0.7866\n"
          ]
        },
        {
          "name": "stderr",
          "output_type": "stream",
          "text": [
            "Training Epoch 27/100: 100%|██████████| 938/938 [00:05<00:00, 187.02it/s]\n",
            "                                                              \r"
          ]
        },
        {
          "name": "stdout",
          "output_type": "stream",
          "text": [
            "Epoch 27/100 | Train Loss: 0.4418 | Train Acc: 0.8183 | Val Loss: 0.5056 | Val Acc: 0.7793\n"
          ]
        },
        {
          "name": "stderr",
          "output_type": "stream",
          "text": [
            "Training Epoch 28/100: 100%|██████████| 938/938 [00:05<00:00, 186.88it/s]\n",
            "                                                              \r"
          ]
        },
        {
          "name": "stdout",
          "output_type": "stream",
          "text": [
            "Epoch 28/100 | Train Loss: 0.4377 | Train Acc: 0.8189 | Val Loss: 0.4435 | Val Acc: 0.8068\n"
          ]
        },
        {
          "name": "stderr",
          "output_type": "stream",
          "text": [
            "Training Epoch 29/100: 100%|██████████| 938/938 [00:05<00:00, 186.86it/s]\n",
            "                                                              \r"
          ]
        },
        {
          "name": "stdout",
          "output_type": "stream",
          "text": [
            "Epoch 29/100 | Train Loss: 0.4384 | Train Acc: 0.8183 | Val Loss: 0.4712 | Val Acc: 0.7975\n"
          ]
        },
        {
          "name": "stderr",
          "output_type": "stream",
          "text": [
            "Training Epoch 30/100: 100%|██████████| 938/938 [00:04<00:00, 188.82it/s]\n",
            "                                                              \r"
          ]
        },
        {
          "name": "stdout",
          "output_type": "stream",
          "text": [
            "Epoch 30/100 | Train Loss: 0.4294 | Train Acc: 0.8200 | Val Loss: 0.4427 | Val Acc: 0.8102\n"
          ]
        },
        {
          "name": "stderr",
          "output_type": "stream",
          "text": [
            "Training Epoch 31/100: 100%|██████████| 938/938 [00:04<00:00, 188.27it/s]\n",
            "                                                              \r"
          ]
        },
        {
          "name": "stdout",
          "output_type": "stream",
          "text": [
            "Epoch 31/100 | Train Loss: 0.4239 | Train Acc: 0.8220 | Val Loss: 0.4304 | Val Acc: 0.8145\n"
          ]
        },
        {
          "name": "stderr",
          "output_type": "stream",
          "text": [
            "Training Epoch 32/100: 100%|██████████| 938/938 [00:05<00:00, 187.27it/s]\n",
            "                                                              \r"
          ]
        },
        {
          "name": "stdout",
          "output_type": "stream",
          "text": [
            "Epoch 32/100 | Train Loss: 0.4153 | Train Acc: 0.8285 | Val Loss: 0.4411 | Val Acc: 0.8148\n"
          ]
        },
        {
          "name": "stderr",
          "output_type": "stream",
          "text": [
            "Training Epoch 33/100: 100%|██████████| 938/938 [00:05<00:00, 187.51it/s]\n",
            "                                                              \r"
          ]
        },
        {
          "name": "stdout",
          "output_type": "stream",
          "text": [
            "Epoch 33/100 | Train Loss: 0.4152 | Train Acc: 0.8297 | Val Loss: 0.5087 | Val Acc: 0.7945\n"
          ]
        },
        {
          "name": "stderr",
          "output_type": "stream",
          "text": [
            "Training Epoch 34/100: 100%|██████████| 938/938 [00:04<00:00, 189.08it/s]\n",
            "                                                              \r"
          ]
        },
        {
          "name": "stdout",
          "output_type": "stream",
          "text": [
            "Epoch 34/100 | Train Loss: 0.4127 | Train Acc: 0.8291 | Val Loss: 0.4208 | Val Acc: 0.8278\n"
          ]
        },
        {
          "name": "stderr",
          "output_type": "stream",
          "text": [
            "Training Epoch 35/100: 100%|██████████| 938/938 [00:05<00:00, 164.32it/s]\n",
            "                                                              \r"
          ]
        },
        {
          "name": "stdout",
          "output_type": "stream",
          "text": [
            "Epoch 35/100 | Train Loss: 0.4082 | Train Acc: 0.8306 | Val Loss: 0.4171 | Val Acc: 0.8238\n"
          ]
        },
        {
          "name": "stderr",
          "output_type": "stream",
          "text": [
            "Training Epoch 36/100: 100%|██████████| 938/938 [00:05<00:00, 168.27it/s]\n",
            "                                                              \r"
          ]
        },
        {
          "name": "stdout",
          "output_type": "stream",
          "text": [
            "Epoch 36/100 | Train Loss: 0.4007 | Train Acc: 0.8344 | Val Loss: 0.4186 | Val Acc: 0.8255\n"
          ]
        },
        {
          "name": "stderr",
          "output_type": "stream",
          "text": [
            "Training Epoch 37/100: 100%|██████████| 938/938 [00:05<00:00, 168.02it/s]\n",
            "                                                              \r"
          ]
        },
        {
          "name": "stdout",
          "output_type": "stream",
          "text": [
            "Epoch 37/100 | Train Loss: 0.3978 | Train Acc: 0.8360 | Val Loss: 0.4100 | Val Acc: 0.8248\n"
          ]
        },
        {
          "name": "stderr",
          "output_type": "stream",
          "text": [
            "Training Epoch 38/100: 100%|██████████| 938/938 [00:05<00:00, 165.11it/s]\n",
            "                                                              \r"
          ]
        },
        {
          "name": "stdout",
          "output_type": "stream",
          "text": [
            "Epoch 38/100 | Train Loss: 0.3922 | Train Acc: 0.8392 | Val Loss: 0.4094 | Val Acc: 0.8238\n"
          ]
        },
        {
          "name": "stderr",
          "output_type": "stream",
          "text": [
            "Training Epoch 39/100: 100%|██████████| 938/938 [00:05<00:00, 165.09it/s]\n",
            "                                                              \r"
          ]
        },
        {
          "name": "stdout",
          "output_type": "stream",
          "text": [
            "Epoch 39/100 | Train Loss: 0.3945 | Train Acc: 0.8389 | Val Loss: 0.4124 | Val Acc: 0.8324\n"
          ]
        },
        {
          "name": "stderr",
          "output_type": "stream",
          "text": [
            "Training Epoch 40/100: 100%|██████████| 938/938 [00:05<00:00, 164.30it/s]\n",
            "                                                              \r"
          ]
        },
        {
          "name": "stdout",
          "output_type": "stream",
          "text": [
            "Epoch 40/100 | Train Loss: 0.3839 | Train Acc: 0.8404 | Val Loss: 0.4065 | Val Acc: 0.8245\n"
          ]
        },
        {
          "name": "stderr",
          "output_type": "stream",
          "text": [
            "Training Epoch 41/100: 100%|██████████| 938/938 [00:05<00:00, 161.54it/s]\n",
            "                                                              \r"
          ]
        },
        {
          "name": "stdout",
          "output_type": "stream",
          "text": [
            "Epoch 41/100 | Train Loss: 0.3755 | Train Acc: 0.8461 | Val Loss: 0.4168 | Val Acc: 0.8201\n"
          ]
        },
        {
          "name": "stderr",
          "output_type": "stream",
          "text": [
            "Training Epoch 42/100: 100%|██████████| 938/938 [00:05<00:00, 162.51it/s]\n",
            "                                                              \r"
          ]
        },
        {
          "name": "stdout",
          "output_type": "stream",
          "text": [
            "Epoch 42/100 | Train Loss: 0.3802 | Train Acc: 0.8477 | Val Loss: 0.4119 | Val Acc: 0.8321\n"
          ]
        },
        {
          "name": "stderr",
          "output_type": "stream",
          "text": [
            "Training Epoch 43/100: 100%|██████████| 938/938 [00:05<00:00, 161.78it/s]\n",
            "                                                              \r"
          ]
        },
        {
          "name": "stdout",
          "output_type": "stream",
          "text": [
            "Epoch 43/100 | Train Loss: 0.3764 | Train Acc: 0.8451 | Val Loss: 0.4010 | Val Acc: 0.8338\n"
          ]
        },
        {
          "name": "stderr",
          "output_type": "stream",
          "text": [
            "Training Epoch 44/100: 100%|██████████| 938/938 [00:05<00:00, 163.07it/s]\n",
            "                                                              \r"
          ]
        },
        {
          "name": "stdout",
          "output_type": "stream",
          "text": [
            "Epoch 44/100 | Train Loss: 0.3654 | Train Acc: 0.8501 | Val Loss: 0.3971 | Val Acc: 0.8364\n"
          ]
        },
        {
          "name": "stderr",
          "output_type": "stream",
          "text": [
            "Training Epoch 45/100: 100%|██████████| 938/938 [00:05<00:00, 166.80it/s]\n",
            "                                                              \r"
          ]
        },
        {
          "name": "stdout",
          "output_type": "stream",
          "text": [
            "Epoch 45/100 | Train Loss: 0.3657 | Train Acc: 0.8519 | Val Loss: 0.4380 | Val Acc: 0.8185\n"
          ]
        },
        {
          "name": "stderr",
          "output_type": "stream",
          "text": [
            "Training Epoch 46/100: 100%|██████████| 938/938 [00:05<00:00, 162.95it/s]\n",
            "                                                              \r"
          ]
        },
        {
          "name": "stdout",
          "output_type": "stream",
          "text": [
            "Epoch 46/100 | Train Loss: 0.3617 | Train Acc: 0.8530 | Val Loss: 0.3922 | Val Acc: 0.8398\n"
          ]
        },
        {
          "name": "stderr",
          "output_type": "stream",
          "text": [
            "Training Epoch 47/100: 100%|██████████| 938/938 [00:05<00:00, 165.60it/s]\n",
            "                                                              \r"
          ]
        },
        {
          "name": "stdout",
          "output_type": "stream",
          "text": [
            "Epoch 47/100 | Train Loss: 0.3592 | Train Acc: 0.8567 | Val Loss: 0.4002 | Val Acc: 0.8291\n"
          ]
        },
        {
          "name": "stderr",
          "output_type": "stream",
          "text": [
            "Training Epoch 48/100: 100%|██████████| 938/938 [00:05<00:00, 167.10it/s]\n",
            "                                                              \r"
          ]
        },
        {
          "name": "stdout",
          "output_type": "stream",
          "text": [
            "Epoch 48/100 | Train Loss: 0.3516 | Train Acc: 0.8579 | Val Loss: 0.3932 | Val Acc: 0.8441\n"
          ]
        },
        {
          "name": "stderr",
          "output_type": "stream",
          "text": [
            "Training Epoch 49/100: 100%|██████████| 938/938 [00:05<00:00, 185.71it/s]\n",
            "                                                              \r"
          ]
        },
        {
          "name": "stdout",
          "output_type": "stream",
          "text": [
            "Epoch 49/100 | Train Loss: 0.3474 | Train Acc: 0.8606 | Val Loss: 0.3865 | Val Acc: 0.8378\n"
          ]
        },
        {
          "name": "stderr",
          "output_type": "stream",
          "text": [
            "Training Epoch 50/100: 100%|██████████| 938/938 [00:04<00:00, 188.80it/s]\n",
            "                                                              \r"
          ]
        },
        {
          "name": "stdout",
          "output_type": "stream",
          "text": [
            "Epoch 50/100 | Train Loss: 0.3501 | Train Acc: 0.8587 | Val Loss: 0.3876 | Val Acc: 0.8384\n"
          ]
        },
        {
          "name": "stderr",
          "output_type": "stream",
          "text": [
            "Training Epoch 51/100: 100%|██████████| 938/938 [00:04<00:00, 188.01it/s]\n",
            "                                                              \r"
          ]
        },
        {
          "name": "stdout",
          "output_type": "stream",
          "text": [
            "Epoch 51/100 | Train Loss: 0.3447 | Train Acc: 0.8615 | Val Loss: 0.3847 | Val Acc: 0.8384\n"
          ]
        },
        {
          "name": "stderr",
          "output_type": "stream",
          "text": [
            "Training Epoch 52/100: 100%|██████████| 938/938 [00:04<00:00, 187.66it/s]\n",
            "                                                              \r"
          ]
        },
        {
          "name": "stdout",
          "output_type": "stream",
          "text": [
            "Epoch 52/100 | Train Loss: 0.3394 | Train Acc: 0.8603 | Val Loss: 0.3900 | Val Acc: 0.8364\n"
          ]
        },
        {
          "name": "stderr",
          "output_type": "stream",
          "text": [
            "Training Epoch 53/100: 100%|██████████| 938/938 [00:04<00:00, 187.62it/s]\n",
            "                                                              \r"
          ]
        },
        {
          "name": "stdout",
          "output_type": "stream",
          "text": [
            "Epoch 53/100 | Train Loss: 0.3436 | Train Acc: 0.8633 | Val Loss: 0.4028 | Val Acc: 0.8275\n"
          ]
        },
        {
          "name": "stderr",
          "output_type": "stream",
          "text": [
            "Training Epoch 54/100: 100%|██████████| 938/938 [00:05<00:00, 175.32it/s]\n",
            "                                                              \r"
          ]
        },
        {
          "name": "stdout",
          "output_type": "stream",
          "text": [
            "Epoch 54/100 | Train Loss: 0.3306 | Train Acc: 0.8671 | Val Loss: 0.3900 | Val Acc: 0.8404\n"
          ]
        },
        {
          "name": "stderr",
          "output_type": "stream",
          "text": [
            "Training Epoch 55/100: 100%|██████████| 938/938 [00:05<00:00, 176.19it/s]\n",
            "                                                              \r"
          ]
        },
        {
          "name": "stdout",
          "output_type": "stream",
          "text": [
            "Epoch 55/100 | Train Loss: 0.3250 | Train Acc: 0.8688 | Val Loss: 0.4008 | Val Acc: 0.8314\n"
          ]
        },
        {
          "name": "stderr",
          "output_type": "stream",
          "text": [
            "Training Epoch 56/100: 100%|██████████| 938/938 [00:05<00:00, 166.84it/s]\n",
            "                                                              \r"
          ]
        },
        {
          "name": "stdout",
          "output_type": "stream",
          "text": [
            "Epoch 56/100 | Train Loss: 0.3285 | Train Acc: 0.8689 | Val Loss: 0.3905 | Val Acc: 0.8388\n"
          ]
        },
        {
          "name": "stderr",
          "output_type": "stream",
          "text": [
            "Training Epoch 57/100: 100%|██████████| 938/938 [00:05<00:00, 165.73it/s]\n",
            "                                                              \r"
          ]
        },
        {
          "name": "stdout",
          "output_type": "stream",
          "text": [
            "Epoch 57/100 | Train Loss: 0.3275 | Train Acc: 0.8705 | Val Loss: 0.3809 | Val Acc: 0.8401\n"
          ]
        },
        {
          "name": "stderr",
          "output_type": "stream",
          "text": [
            "Training Epoch 58/100: 100%|██████████| 938/938 [00:05<00:00, 167.79it/s]\n",
            "                                                              \r"
          ]
        },
        {
          "name": "stdout",
          "output_type": "stream",
          "text": [
            "Epoch 58/100 | Train Loss: 0.3152 | Train Acc: 0.8755 | Val Loss: 0.3867 | Val Acc: 0.8411\n"
          ]
        },
        {
          "name": "stderr",
          "output_type": "stream",
          "text": [
            "Training Epoch 59/100: 100%|██████████| 938/938 [00:05<00:00, 167.07it/s]\n",
            "                                                              \r"
          ]
        },
        {
          "name": "stdout",
          "output_type": "stream",
          "text": [
            "Epoch 59/100 | Train Loss: 0.3163 | Train Acc: 0.8735 | Val Loss: 0.3986 | Val Acc: 0.8285\n"
          ]
        },
        {
          "name": "stderr",
          "output_type": "stream",
          "text": [
            "Training Epoch 60/100: 100%|██████████| 938/938 [00:05<00:00, 176.26it/s]\n",
            "                                                              \r"
          ]
        },
        {
          "name": "stdout",
          "output_type": "stream",
          "text": [
            "Epoch 60/100 | Train Loss: 0.3090 | Train Acc: 0.8759 | Val Loss: 0.3970 | Val Acc: 0.8371\n"
          ]
        },
        {
          "name": "stderr",
          "output_type": "stream",
          "text": [
            "Training Epoch 61/100: 100%|██████████| 938/938 [00:05<00:00, 166.30it/s]\n",
            "                                                              \r"
          ]
        },
        {
          "name": "stdout",
          "output_type": "stream",
          "text": [
            "Epoch 61/100 | Train Loss: 0.3144 | Train Acc: 0.8745 | Val Loss: 0.3508 | Val Acc: 0.8497\n"
          ]
        },
        {
          "name": "stderr",
          "output_type": "stream",
          "text": [
            "Training Epoch 62/100: 100%|██████████| 938/938 [00:05<00:00, 167.24it/s]\n",
            "                                                              \r"
          ]
        },
        {
          "name": "stdout",
          "output_type": "stream",
          "text": [
            "Epoch 62/100 | Train Loss: 0.3099 | Train Acc: 0.8757 | Val Loss: 0.4061 | Val Acc: 0.8308\n"
          ]
        },
        {
          "name": "stderr",
          "output_type": "stream",
          "text": [
            "Training Epoch 63/100: 100%|██████████| 938/938 [00:05<00:00, 166.23it/s]\n",
            "                                                              \r"
          ]
        },
        {
          "name": "stdout",
          "output_type": "stream",
          "text": [
            "Epoch 63/100 | Train Loss: 0.3055 | Train Acc: 0.8810 | Val Loss: 0.3647 | Val Acc: 0.8438\n"
          ]
        },
        {
          "name": "stderr",
          "output_type": "stream",
          "text": [
            "Training Epoch 64/100: 100%|██████████| 938/938 [00:05<00:00, 186.21it/s]\n",
            "                                                              \r"
          ]
        },
        {
          "name": "stdout",
          "output_type": "stream",
          "text": [
            "Epoch 64/100 | Train Loss: 0.2961 | Train Acc: 0.8843 | Val Loss: 0.4798 | Val Acc: 0.8195\n"
          ]
        },
        {
          "name": "stderr",
          "output_type": "stream",
          "text": [
            "Training Epoch 65/100: 100%|██████████| 938/938 [00:05<00:00, 183.26it/s]\n",
            "                                                              \r"
          ]
        },
        {
          "name": "stdout",
          "output_type": "stream",
          "text": [
            "Epoch 65/100 | Train Loss: 0.2986 | Train Acc: 0.8831 | Val Loss: 0.3638 | Val Acc: 0.8414\n"
          ]
        },
        {
          "name": "stderr",
          "output_type": "stream",
          "text": [
            "Training Epoch 66/100: 100%|██████████| 938/938 [00:05<00:00, 186.65it/s]\n",
            "                                                              \r"
          ]
        },
        {
          "name": "stdout",
          "output_type": "stream",
          "text": [
            "Epoch 66/100 | Train Loss: 0.2977 | Train Acc: 0.8825 | Val Loss: 0.3745 | Val Acc: 0.8471\n"
          ]
        },
        {
          "name": "stderr",
          "output_type": "stream",
          "text": [
            "Training Epoch 67/100: 100%|██████████| 938/938 [00:04<00:00, 188.30it/s]\n",
            "                                                              \r"
          ]
        },
        {
          "name": "stdout",
          "output_type": "stream",
          "text": [
            "Epoch 67/100 | Train Loss: 0.2929 | Train Acc: 0.8847 | Val Loss: 0.4018 | Val Acc: 0.8368\n"
          ]
        },
        {
          "name": "stderr",
          "output_type": "stream",
          "text": [
            "Training Epoch 68/100: 100%|██████████| 938/938 [00:05<00:00, 182.53it/s]\n",
            "                                                              \r"
          ]
        },
        {
          "name": "stdout",
          "output_type": "stream",
          "text": [
            "Epoch 68/100 | Train Loss: 0.2886 | Train Acc: 0.8853 | Val Loss: 0.4022 | Val Acc: 0.8341\n"
          ]
        },
        {
          "name": "stderr",
          "output_type": "stream",
          "text": [
            "Training Epoch 69/100: 100%|██████████| 938/938 [00:05<00:00, 187.38it/s]\n",
            "                                                              \r"
          ]
        },
        {
          "name": "stdout",
          "output_type": "stream",
          "text": [
            "Epoch 69/100 | Train Loss: 0.2848 | Train Acc: 0.8878 | Val Loss: 0.3694 | Val Acc: 0.8507\n"
          ]
        },
        {
          "name": "stderr",
          "output_type": "stream",
          "text": [
            "Training Epoch 70/100: 100%|██████████| 938/938 [00:05<00:00, 186.21it/s]\n",
            "                                                              \r"
          ]
        },
        {
          "name": "stdout",
          "output_type": "stream",
          "text": [
            "Epoch 70/100 | Train Loss: 0.2877 | Train Acc: 0.8874 | Val Loss: 0.3675 | Val Acc: 0.8457\n"
          ]
        },
        {
          "name": "stderr",
          "output_type": "stream",
          "text": [
            "Training Epoch 71/100: 100%|██████████| 938/938 [00:04<00:00, 189.38it/s]\n",
            "                                                              \r"
          ]
        },
        {
          "name": "stdout",
          "output_type": "stream",
          "text": [
            "Epoch 71/100 | Train Loss: 0.2865 | Train Acc: 0.8849 | Val Loss: 0.3602 | Val Acc: 0.8484\n"
          ]
        },
        {
          "name": "stderr",
          "output_type": "stream",
          "text": [
            "Training Epoch 72/100: 100%|██████████| 938/938 [00:04<00:00, 188.46it/s]\n",
            "                                                              \r"
          ]
        },
        {
          "name": "stdout",
          "output_type": "stream",
          "text": [
            "Epoch 72/100 | Train Loss: 0.2795 | Train Acc: 0.8911 | Val Loss: 0.3767 | Val Acc: 0.8491\n"
          ]
        },
        {
          "name": "stderr",
          "output_type": "stream",
          "text": [
            "Training Epoch 73/100: 100%|██████████| 938/938 [00:04<00:00, 187.88it/s]\n",
            "                                                              \r"
          ]
        },
        {
          "name": "stdout",
          "output_type": "stream",
          "text": [
            "Epoch 73/100 | Train Loss: 0.2786 | Train Acc: 0.8923 | Val Loss: 0.3965 | Val Acc: 0.8378\n"
          ]
        },
        {
          "name": "stderr",
          "output_type": "stream",
          "text": [
            "Training Epoch 74/100: 100%|██████████| 938/938 [00:05<00:00, 187.32it/s]\n",
            "                                                              \r"
          ]
        },
        {
          "name": "stdout",
          "output_type": "stream",
          "text": [
            "Epoch 74/100 | Train Loss: 0.2780 | Train Acc: 0.8929 | Val Loss: 0.3592 | Val Acc: 0.8564\n"
          ]
        },
        {
          "name": "stderr",
          "output_type": "stream",
          "text": [
            "Training Epoch 75/100: 100%|██████████| 938/938 [00:04<00:00, 187.84it/s]\n",
            "                                                              \r"
          ]
        },
        {
          "name": "stdout",
          "output_type": "stream",
          "text": [
            "Epoch 75/100 | Train Loss: 0.2752 | Train Acc: 0.8940 | Val Loss: 0.4144 | Val Acc: 0.8368\n"
          ]
        },
        {
          "name": "stderr",
          "output_type": "stream",
          "text": [
            "Training Epoch 76/100: 100%|██████████| 938/938 [00:04<00:00, 189.73it/s]\n",
            "                                                              \r"
          ]
        },
        {
          "name": "stdout",
          "output_type": "stream",
          "text": [
            "Epoch 76/100 | Train Loss: 0.2643 | Train Acc: 0.8974 | Val Loss: 0.4248 | Val Acc: 0.8368\n"
          ]
        },
        {
          "name": "stderr",
          "output_type": "stream",
          "text": [
            "Training Epoch 77/100: 100%|██████████| 938/938 [00:05<00:00, 187.45it/s]\n",
            "                                                              \r"
          ]
        },
        {
          "name": "stdout",
          "output_type": "stream",
          "text": [
            "Epoch 77/100 | Train Loss: 0.2671 | Train Acc: 0.8952 | Val Loss: 0.3830 | Val Acc: 0.8431\n"
          ]
        },
        {
          "name": "stderr",
          "output_type": "stream",
          "text": [
            "Training Epoch 78/100: 100%|██████████| 938/938 [00:05<00:00, 186.53it/s]\n",
            "                                                              \r"
          ]
        },
        {
          "name": "stdout",
          "output_type": "stream",
          "text": [
            "Epoch 78/100 | Train Loss: 0.2679 | Train Acc: 0.8947 | Val Loss: 0.3708 | Val Acc: 0.8487\n"
          ]
        },
        {
          "name": "stderr",
          "output_type": "stream",
          "text": [
            "Training Epoch 79/100: 100%|██████████| 938/938 [00:04<00:00, 188.64it/s]\n",
            "                                                              \r"
          ]
        },
        {
          "name": "stdout",
          "output_type": "stream",
          "text": [
            "Epoch 79/100 | Train Loss: 0.2591 | Train Acc: 0.8991 | Val Loss: 0.4191 | Val Acc: 0.8331\n"
          ]
        },
        {
          "name": "stderr",
          "output_type": "stream",
          "text": [
            "Training Epoch 80/100: 100%|██████████| 938/938 [00:05<00:00, 186.05it/s]\n",
            "                                                              \r"
          ]
        },
        {
          "name": "stdout",
          "output_type": "stream",
          "text": [
            "Epoch 80/100 | Train Loss: 0.2542 | Train Acc: 0.9031 | Val Loss: 0.3715 | Val Acc: 0.8537\n"
          ]
        },
        {
          "name": "stderr",
          "output_type": "stream",
          "text": [
            "Training Epoch 81/100: 100%|██████████| 938/938 [00:05<00:00, 187.03it/s]\n",
            "                                                              \r"
          ]
        },
        {
          "name": "stdout",
          "output_type": "stream",
          "text": [
            "Epoch 81/100 | Train Loss: 0.2582 | Train Acc: 0.8991 | Val Loss: 0.3689 | Val Acc: 0.8527\n"
          ]
        },
        {
          "name": "stderr",
          "output_type": "stream",
          "text": [
            "Training Epoch 82/100: 100%|██████████| 938/938 [00:05<00:00, 187.47it/s]\n",
            "                                                              \r"
          ]
        },
        {
          "name": "stdout",
          "output_type": "stream",
          "text": [
            "Epoch 82/100 | Train Loss: 0.2543 | Train Acc: 0.9023 | Val Loss: 0.3897 | Val Acc: 0.8348\n"
          ]
        },
        {
          "name": "stderr",
          "output_type": "stream",
          "text": [
            "Training Epoch 83/100: 100%|██████████| 938/938 [00:05<00:00, 186.59it/s]\n",
            "                                                              \r"
          ]
        },
        {
          "name": "stdout",
          "output_type": "stream",
          "text": [
            "Epoch 83/100 | Train Loss: 0.2527 | Train Acc: 0.9023 | Val Loss: 0.4230 | Val Acc: 0.8338\n"
          ]
        },
        {
          "name": "stderr",
          "output_type": "stream",
          "text": [
            "Training Epoch 84/100: 100%|██████████| 938/938 [00:04<00:00, 188.73it/s]\n",
            "                                                              \r"
          ]
        },
        {
          "name": "stdout",
          "output_type": "stream",
          "text": [
            "Epoch 84/100 | Train Loss: 0.2494 | Train Acc: 0.9042 | Val Loss: 0.3737 | Val Acc: 0.8597\n"
          ]
        },
        {
          "name": "stderr",
          "output_type": "stream",
          "text": [
            "Training Epoch 85/100: 100%|██████████| 938/938 [00:05<00:00, 187.06it/s]\n",
            "                                                              \r"
          ]
        },
        {
          "name": "stdout",
          "output_type": "stream",
          "text": [
            "Epoch 85/100 | Train Loss: 0.2506 | Train Acc: 0.9017 | Val Loss: 0.3792 | Val Acc: 0.8504\n"
          ]
        },
        {
          "name": "stderr",
          "output_type": "stream",
          "text": [
            "Training Epoch 86/100: 100%|██████████| 938/938 [00:04<00:00, 187.86it/s]\n",
            "                                                              \r"
          ]
        },
        {
          "name": "stdout",
          "output_type": "stream",
          "text": [
            "Epoch 86/100 | Train Loss: 0.2457 | Train Acc: 0.9025 | Val Loss: 0.3625 | Val Acc: 0.8514\n"
          ]
        },
        {
          "name": "stderr",
          "output_type": "stream",
          "text": [
            "Training Epoch 87/100: 100%|██████████| 938/938 [00:04<00:00, 188.79it/s]\n",
            "                                                              \r"
          ]
        },
        {
          "name": "stdout",
          "output_type": "stream",
          "text": [
            "Epoch 87/100 | Train Loss: 0.2414 | Train Acc: 0.9080 | Val Loss: 0.3531 | Val Acc: 0.8577\n"
          ]
        },
        {
          "name": "stderr",
          "output_type": "stream",
          "text": [
            "Training Epoch 88/100: 100%|██████████| 938/938 [00:04<00:00, 188.77it/s]\n",
            "                                                              \r"
          ]
        },
        {
          "name": "stdout",
          "output_type": "stream",
          "text": [
            "Epoch 88/100 | Train Loss: 0.2444 | Train Acc: 0.9046 | Val Loss: 0.3801 | Val Acc: 0.8511\n"
          ]
        },
        {
          "name": "stderr",
          "output_type": "stream",
          "text": [
            "Training Epoch 89/100: 100%|██████████| 938/938 [00:05<00:00, 187.37it/s]\n",
            "                                                              \r"
          ]
        },
        {
          "name": "stdout",
          "output_type": "stream",
          "text": [
            "Epoch 89/100 | Train Loss: 0.2400 | Train Acc: 0.9091 | Val Loss: 0.3587 | Val Acc: 0.8524\n"
          ]
        },
        {
          "name": "stderr",
          "output_type": "stream",
          "text": [
            "Training Epoch 90/100: 100%|██████████| 938/938 [00:04<00:00, 188.53it/s]\n",
            "                                                              \r"
          ]
        },
        {
          "name": "stdout",
          "output_type": "stream",
          "text": [
            "Epoch 90/100 | Train Loss: 0.2390 | Train Acc: 0.9084 | Val Loss: 0.3497 | Val Acc: 0.8574\n"
          ]
        },
        {
          "name": "stderr",
          "output_type": "stream",
          "text": [
            "Training Epoch 91/100: 100%|██████████| 938/938 [00:05<00:00, 185.93it/s]\n",
            "                                                              \r"
          ]
        },
        {
          "name": "stdout",
          "output_type": "stream",
          "text": [
            "Epoch 91/100 | Train Loss: 0.2343 | Train Acc: 0.9116 | Val Loss: 0.3590 | Val Acc: 0.8604\n"
          ]
        },
        {
          "name": "stderr",
          "output_type": "stream",
          "text": [
            "Training Epoch 92/100: 100%|██████████| 938/938 [00:05<00:00, 177.00it/s]\n",
            "                                                              \r"
          ]
        },
        {
          "name": "stdout",
          "output_type": "stream",
          "text": [
            "Epoch 92/100 | Train Loss: 0.2345 | Train Acc: 0.9094 | Val Loss: 0.3585 | Val Acc: 0.8624\n"
          ]
        },
        {
          "name": "stderr",
          "output_type": "stream",
          "text": [
            "Training Epoch 93/100: 100%|██████████| 938/938 [00:05<00:00, 186.59it/s]\n",
            "                                                              \r"
          ]
        },
        {
          "name": "stdout",
          "output_type": "stream",
          "text": [
            "Epoch 93/100 | Train Loss: 0.2362 | Train Acc: 0.9088 | Val Loss: 0.3570 | Val Acc: 0.8564\n"
          ]
        },
        {
          "name": "stderr",
          "output_type": "stream",
          "text": [
            "Training Epoch 94/100: 100%|██████████| 938/938 [00:04<00:00, 187.79it/s]\n",
            "                                                              \r"
          ]
        },
        {
          "name": "stdout",
          "output_type": "stream",
          "text": [
            "Epoch 94/100 | Train Loss: 0.2316 | Train Acc: 0.9099 | Val Loss: 0.3618 | Val Acc: 0.8570\n"
          ]
        },
        {
          "name": "stderr",
          "output_type": "stream",
          "text": [
            "Training Epoch 95/100: 100%|██████████| 938/938 [00:05<00:00, 183.13it/s]\n",
            "                                                              \r"
          ]
        },
        {
          "name": "stdout",
          "output_type": "stream",
          "text": [
            "Epoch 95/100 | Train Loss: 0.2306 | Train Acc: 0.9111 | Val Loss: 0.3432 | Val Acc: 0.8604\n"
          ]
        },
        {
          "name": "stderr",
          "output_type": "stream",
          "text": [
            "Training Epoch 96/100: 100%|██████████| 938/938 [00:05<00:00, 167.89it/s]\n",
            "                                                              \r"
          ]
        },
        {
          "name": "stdout",
          "output_type": "stream",
          "text": [
            "Epoch 96/100 | Train Loss: 0.2210 | Train Acc: 0.9178 | Val Loss: 0.3848 | Val Acc: 0.8494\n"
          ]
        },
        {
          "name": "stderr",
          "output_type": "stream",
          "text": [
            "Training Epoch 97/100: 100%|██████████| 938/938 [00:05<00:00, 172.43it/s]\n",
            "                                                              \r"
          ]
        },
        {
          "name": "stdout",
          "output_type": "stream",
          "text": [
            "Epoch 97/100 | Train Loss: 0.2209 | Train Acc: 0.9166 | Val Loss: 0.4295 | Val Acc: 0.8388\n"
          ]
        },
        {
          "name": "stderr",
          "output_type": "stream",
          "text": [
            "Training Epoch 98/100: 100%|██████████| 938/938 [00:05<00:00, 166.09it/s]\n",
            "                                                              \r"
          ]
        },
        {
          "name": "stdout",
          "output_type": "stream",
          "text": [
            "Epoch 98/100 | Train Loss: 0.2243 | Train Acc: 0.9166 | Val Loss: 0.3692 | Val Acc: 0.8554\n"
          ]
        },
        {
          "name": "stderr",
          "output_type": "stream",
          "text": [
            "Training Epoch 99/100: 100%|██████████| 938/938 [00:05<00:00, 166.44it/s]\n",
            "                                                              \r"
          ]
        },
        {
          "name": "stdout",
          "output_type": "stream",
          "text": [
            "Epoch 99/100 | Train Loss: 0.2237 | Train Acc: 0.9144 | Val Loss: 0.3531 | Val Acc: 0.8597\n"
          ]
        },
        {
          "name": "stderr",
          "output_type": "stream",
          "text": [
            "Training Epoch 100/100: 100%|██████████| 938/938 [00:05<00:00, 167.19it/s]\n",
            "                                                              "
          ]
        },
        {
          "name": "stdout",
          "output_type": "stream",
          "text": [
            "Epoch 100/100 | Train Loss: 0.2167 | Train Acc: 0.9184 | Val Loss: 0.3677 | Val Acc: 0.8570\n"
          ]
        },
        {
          "name": "stderr",
          "output_type": "stream",
          "text": [
            "\r"
          ]
        }
      ],
      "source": [
        "model_kernel7 = CNN(kernel_size=7)\n",
        "history_kernel7 = fit(model_kernel7, {'train': trainloader, 'test': testloader}, epochs=100)"
      ]
    },
    {
      "cell_type": "code",
      "execution_count": 168,
      "metadata": {},
      "outputs": [
        {
          "name": "stderr",
          "output_type": "stream",
          "text": [
            "/tmp/ipykernel_2685/1010231979.py:12: MatplotlibDeprecationWarning: The seaborn styles shipped by Matplotlib are deprecated since 3.6, as they no longer correspond to the styles shipped by seaborn. However, they will remain available as 'seaborn-v0_8-<style>'. Alternatively, directly use the seaborn API instead.\n",
            "  plt.style.use('seaborn-darkgrid')\n"
          ]
        },
        {
          "data": {
            "image/png": "[encoded data removed]",
            "text/plain": [
              "<Figure size 1200x600 with 2 Axes>"
            ]
          },
          "metadata": {},
          "output_type": "display_data"
        }
      ],
      "source": [
        "plot_history(history_kernel7)"
      ]
    },
    {
      "cell_type": "code",
      "execution_count": 169,
      "metadata": {},
      "outputs": [],
      "source": [
        "results = evaluate_model(model_kernel7, testloader, selected_classes)"
      ]
    },
    {
      "cell_type": "code",
      "execution_count": 170,
      "metadata": {},
      "outputs": [
        {
          "name": "stdout",
          "output_type": "stream",
          "text": [
            "              precision  recall  f1-score  support\n",
            "cat                0.75    0.90      0.82  1000.00\n",
            "dog                0.90    0.78      0.84  1000.00\n",
            "frog               0.96    0.90      0.93  1000.00\n",
            "accuracy           0.86    0.86      0.86     0.86\n",
            "macro avg          0.87    0.86      0.86  3000.00\n",
            "weighted avg       0.87    0.86      0.86  3000.00\n"
          ]
        }
      ],
      "source": [
        "print(results['classification_report'])"
      ]
    },
    {
      "cell_type": "code",
      "execution_count": 171,
      "metadata": {},
      "outputs": [
        {
          "data": {
            "image/png": "[encoded data removed]",
            "text/plain": [
              "<Figure size 800x600 with 2 Axes>"
            ]
          },
          "metadata": {},
          "output_type": "display_data"
        }
      ],
      "source": [
        "conf_matrix = results['confusion_matrix']\n",
        "\n",
        "plt.figure(figsize=(8, 6))\n",
        "sns.heatmap(conf_matrix, annot=True, fmt=\"d\", cmap='Blues', xticklabels=selected_classes, yticklabels=selected_classes)\n",
        "plt.xlabel('Predicted Label')\n",
        "plt.ylabel('True Label')\n",
        "plt.title('Confusion Matrix')\n",
        "plt.show()"
      ]
    },
    {
      "cell_type": "code",
      "execution_count": 172,
      "metadata": {},
      "outputs": [
        {
          "name": "stdout",
          "output_type": "stream",
          "text": [
            "Model saved as models/cifar10_cnn_kernel7_loss0.37_acc0.86.pth\n"
          ]
        }
      ],
      "source": [
        "model_filename = save_model_with_metrics(model_kernel7, history_kernel7, path=\"models\", filename_prefix=\"cifar10_cnn\", kernel_size=7)"
      ]
    },
    {
      "cell_type": "markdown",
      "metadata": {},
      "source": [
        "#  Experimento con tamaño de kernel 9x9"
      ]
    },
    {
      "cell_type": "markdown",
      "metadata": {},
      "source": [
        "En esta sección, se entrenará el modelo con un tamaño de kernel de 9x9 y se evaluará su comportamiento en términos de la pérdida y el *accuracy*."
      ]
    },
    {
      "cell_type": "code",
      "execution_count": 173,
      "metadata": {},
      "outputs": [
        {
          "name": "stderr",
          "output_type": "stream",
          "text": [
            "Training Epoch 1/100: 100%|██████████| 938/938 [00:06<00:00, 136.29it/s]\n",
            "                                                              \r"
          ]
        },
        {
          "name": "stdout",
          "output_type": "stream",
          "text": [
            "Epoch 1/100 | Train Loss: 0.8852 | Train Acc: 0.5602 | Val Loss: 0.7756 | Val Acc: 0.6197\n"
          ]
        },
        {
          "name": "stderr",
          "output_type": "stream",
          "text": [
            "Training Epoch 2/100: 100%|██████████| 938/938 [00:06<00:00, 142.71it/s]\n",
            "                                                              \r"
          ]
        },
        {
          "name": "stdout",
          "output_type": "stream",
          "text": [
            "Epoch 2/100 | Train Loss: 0.7766 | Train Acc: 0.6340 | Val Loss: 0.7069 | Val Acc: 0.6702\n"
          ]
        },
        {
          "name": "stderr",
          "output_type": "stream",
          "text": [
            "Training Epoch 3/100: 100%|██████████| 938/938 [00:06<00:00, 144.42it/s]\n",
            "                                                              \r"
          ]
        },
        {
          "name": "stdout",
          "output_type": "stream",
          "text": [
            "Epoch 3/100 | Train Loss: 0.7415 | Train Acc: 0.6597 | Val Loss: 0.6772 | Val Acc: 0.6852\n"
          ]
        },
        {
          "name": "stderr",
          "output_type": "stream",
          "text": [
            "Training Epoch 4/100: 100%|██████████| 938/938 [00:06<00:00, 142.71it/s]\n",
            "                                                              \r"
          ]
        },
        {
          "name": "stdout",
          "output_type": "stream",
          "text": [
            "Epoch 4/100 | Train Loss: 0.7133 | Train Acc: 0.6713 | Val Loss: 0.6653 | Val Acc: 0.7015\n"
          ]
        },
        {
          "name": "stderr",
          "output_type": "stream",
          "text": [
            "Training Epoch 5/100: 100%|██████████| 938/938 [00:06<00:00, 146.53it/s]\n",
            "                                                              \r"
          ]
        },
        {
          "name": "stdout",
          "output_type": "stream",
          "text": [
            "Epoch 5/100 | Train Loss: 0.6920 | Train Acc: 0.6814 | Val Loss: 0.6996 | Val Acc: 0.6842\n"
          ]
        },
        {
          "name": "stderr",
          "output_type": "stream",
          "text": [
            "Training Epoch 6/100: 100%|██████████| 938/938 [00:06<00:00, 146.43it/s]\n",
            "                                                              \r"
          ]
        },
        {
          "name": "stdout",
          "output_type": "stream",
          "text": [
            "Epoch 6/100 | Train Loss: 0.6752 | Train Acc: 0.6921 | Val Loss: 0.6716 | Val Acc: 0.7051\n"
          ]
        },
        {
          "name": "stderr",
          "output_type": "stream",
          "text": [
            "Training Epoch 7/100: 100%|██████████| 938/938 [00:06<00:00, 146.89it/s]\n",
            "                                                              \r"
          ]
        },
        {
          "name": "stdout",
          "output_type": "stream",
          "text": [
            "Epoch 7/100 | Train Loss: 0.6605 | Train Acc: 0.7010 | Val Loss: 0.5991 | Val Acc: 0.7311\n"
          ]
        },
        {
          "name": "stderr",
          "output_type": "stream",
          "text": [
            "Training Epoch 8/100: 100%|██████████| 938/938 [00:06<00:00, 146.58it/s]\n",
            "                                                              \r"
          ]
        },
        {
          "name": "stdout",
          "output_type": "stream",
          "text": [
            "Epoch 8/100 | Train Loss: 0.6420 | Train Acc: 0.7127 | Val Loss: 0.6079 | Val Acc: 0.7287\n"
          ]
        },
        {
          "name": "stderr",
          "output_type": "stream",
          "text": [
            "Training Epoch 9/100: 100%|██████████| 938/938 [00:06<00:00, 147.21it/s]\n",
            "                                                              \r"
          ]
        },
        {
          "name": "stdout",
          "output_type": "stream",
          "text": [
            "Epoch 9/100 | Train Loss: 0.6244 | Train Acc: 0.7242 | Val Loss: 0.5904 | Val Acc: 0.7311\n"
          ]
        },
        {
          "name": "stderr",
          "output_type": "stream",
          "text": [
            "Training Epoch 10/100: 100%|██████████| 938/938 [00:06<00:00, 146.64it/s]\n",
            "                                                              \r"
          ]
        },
        {
          "name": "stdout",
          "output_type": "stream",
          "text": [
            "Epoch 10/100 | Train Loss: 0.6089 | Train Acc: 0.7348 | Val Loss: 0.5752 | Val Acc: 0.7443\n"
          ]
        },
        {
          "name": "stderr",
          "output_type": "stream",
          "text": [
            "Training Epoch 11/100: 100%|██████████| 938/938 [00:06<00:00, 145.84it/s]\n",
            "                                                              \r"
          ]
        },
        {
          "name": "stdout",
          "output_type": "stream",
          "text": [
            "Epoch 11/100 | Train Loss: 0.5993 | Train Acc: 0.7331 | Val Loss: 0.5613 | Val Acc: 0.7557\n"
          ]
        },
        {
          "name": "stderr",
          "output_type": "stream",
          "text": [
            "Training Epoch 12/100: 100%|██████████| 938/938 [00:06<00:00, 145.88it/s]\n",
            "                                                              \r"
          ]
        },
        {
          "name": "stdout",
          "output_type": "stream",
          "text": [
            "Epoch 12/100 | Train Loss: 0.5833 | Train Acc: 0.7441 | Val Loss: 0.5424 | Val Acc: 0.7547\n"
          ]
        },
        {
          "name": "stderr",
          "output_type": "stream",
          "text": [
            "Training Epoch 13/100: 100%|██████████| 938/938 [00:06<00:00, 144.19it/s]\n",
            "                                                              \r"
          ]
        },
        {
          "name": "stdout",
          "output_type": "stream",
          "text": [
            "Epoch 13/100 | Train Loss: 0.5730 | Train Acc: 0.7472 | Val Loss: 0.5531 | Val Acc: 0.7510\n"
          ]
        },
        {
          "name": "stderr",
          "output_type": "stream",
          "text": [
            "Training Epoch 14/100: 100%|██████████| 938/938 [00:06<00:00, 144.63it/s]\n",
            "                                                              \r"
          ]
        },
        {
          "name": "stdout",
          "output_type": "stream",
          "text": [
            "Epoch 14/100 | Train Loss: 0.5639 | Train Acc: 0.7533 | Val Loss: 0.5287 | Val Acc: 0.7640\n"
          ]
        },
        {
          "name": "stderr",
          "output_type": "stream",
          "text": [
            "Training Epoch 15/100: 100%|██████████| 938/938 [00:06<00:00, 146.30it/s]\n",
            "                                                              \r"
          ]
        },
        {
          "name": "stdout",
          "output_type": "stream",
          "text": [
            "Epoch 15/100 | Train Loss: 0.5500 | Train Acc: 0.7611 | Val Loss: 0.5364 | Val Acc: 0.7656\n"
          ]
        },
        {
          "name": "stderr",
          "output_type": "stream",
          "text": [
            "Training Epoch 16/100: 100%|██████████| 938/938 [00:06<00:00, 144.40it/s]\n",
            "                                                              \r"
          ]
        },
        {
          "name": "stdout",
          "output_type": "stream",
          "text": [
            "Epoch 16/100 | Train Loss: 0.5406 | Train Acc: 0.7689 | Val Loss: 0.5382 | Val Acc: 0.7703\n"
          ]
        },
        {
          "name": "stderr",
          "output_type": "stream",
          "text": [
            "Training Epoch 17/100: 100%|██████████| 938/938 [00:06<00:00, 145.81it/s]\n",
            "                                                              \r"
          ]
        },
        {
          "name": "stdout",
          "output_type": "stream",
          "text": [
            "Epoch 17/100 | Train Loss: 0.5268 | Train Acc: 0.7743 | Val Loss: 0.5121 | Val Acc: 0.7736\n"
          ]
        },
        {
          "name": "stderr",
          "output_type": "stream",
          "text": [
            "Training Epoch 18/100: 100%|██████████| 938/938 [00:06<00:00, 142.59it/s]\n",
            "                                                              \r"
          ]
        },
        {
          "name": "stdout",
          "output_type": "stream",
          "text": [
            "Epoch 18/100 | Train Loss: 0.5248 | Train Acc: 0.7722 | Val Loss: 0.5875 | Val Acc: 0.7354\n"
          ]
        },
        {
          "name": "stderr",
          "output_type": "stream",
          "text": [
            "Training Epoch 19/100: 100%|██████████| 938/938 [00:06<00:00, 147.70it/s]\n",
            "                                                              \r"
          ]
        },
        {
          "name": "stdout",
          "output_type": "stream",
          "text": [
            "Epoch 19/100 | Train Loss: 0.5167 | Train Acc: 0.7780 | Val Loss: 0.5332 | Val Acc: 0.7686\n"
          ]
        },
        {
          "name": "stderr",
          "output_type": "stream",
          "text": [
            "Training Epoch 20/100: 100%|██████████| 938/938 [00:06<00:00, 147.88it/s]\n",
            "                                                              \r"
          ]
        },
        {
          "name": "stdout",
          "output_type": "stream",
          "text": [
            "Epoch 20/100 | Train Loss: 0.5098 | Train Acc: 0.7832 | Val Loss: 0.4868 | Val Acc: 0.7889\n"
          ]
        },
        {
          "name": "stderr",
          "output_type": "stream",
          "text": [
            "Training Epoch 21/100: 100%|██████████| 938/938 [00:06<00:00, 139.48it/s]\n",
            "                                                              \r"
          ]
        },
        {
          "name": "stdout",
          "output_type": "stream",
          "text": [
            "Epoch 21/100 | Train Loss: 0.5007 | Train Acc: 0.7880 | Val Loss: 0.5390 | Val Acc: 0.7623\n"
          ]
        },
        {
          "name": "stderr",
          "output_type": "stream",
          "text": [
            "Training Epoch 22/100: 100%|██████████| 938/938 [00:06<00:00, 135.97it/s]\n",
            "                                                              \r"
          ]
        },
        {
          "name": "stdout",
          "output_type": "stream",
          "text": [
            "Epoch 22/100 | Train Loss: 0.4946 | Train Acc: 0.7916 | Val Loss: 0.5073 | Val Acc: 0.7816\n"
          ]
        },
        {
          "name": "stderr",
          "output_type": "stream",
          "text": [
            "Training Epoch 23/100: 100%|██████████| 938/938 [00:06<00:00, 135.48it/s]\n",
            "                                                              \r"
          ]
        },
        {
          "name": "stdout",
          "output_type": "stream",
          "text": [
            "Epoch 23/100 | Train Loss: 0.4895 | Train Acc: 0.7931 | Val Loss: 0.4791 | Val Acc: 0.7962\n"
          ]
        },
        {
          "name": "stderr",
          "output_type": "stream",
          "text": [
            "Training Epoch 24/100: 100%|██████████| 938/938 [00:06<00:00, 136.75it/s]\n",
            "                                                              \r"
          ]
        },
        {
          "name": "stdout",
          "output_type": "stream",
          "text": [
            "Epoch 24/100 | Train Loss: 0.4805 | Train Acc: 0.7997 | Val Loss: 0.4700 | Val Acc: 0.8035\n"
          ]
        },
        {
          "name": "stderr",
          "output_type": "stream",
          "text": [
            "Training Epoch 25/100: 100%|██████████| 938/938 [00:07<00:00, 133.07it/s]\n",
            "                                                              \r"
          ]
        },
        {
          "name": "stdout",
          "output_type": "stream",
          "text": [
            "Epoch 25/100 | Train Loss: 0.4732 | Train Acc: 0.7993 | Val Loss: 0.4827 | Val Acc: 0.8022\n"
          ]
        },
        {
          "name": "stderr",
          "output_type": "stream",
          "text": [
            "Training Epoch 26/100: 100%|██████████| 938/938 [00:06<00:00, 137.18it/s]\n",
            "                                                              \r"
          ]
        },
        {
          "name": "stdout",
          "output_type": "stream",
          "text": [
            "Epoch 26/100 | Train Loss: 0.4659 | Train Acc: 0.8046 | Val Loss: 0.4879 | Val Acc: 0.7866\n"
          ]
        },
        {
          "name": "stderr",
          "output_type": "stream",
          "text": [
            "Training Epoch 27/100: 100%|██████████| 938/938 [00:07<00:00, 130.29it/s]\n",
            "                                                              \r"
          ]
        },
        {
          "name": "stdout",
          "output_type": "stream",
          "text": [
            "Epoch 27/100 | Train Loss: 0.4635 | Train Acc: 0.8068 | Val Loss: 0.4485 | Val Acc: 0.8039\n"
          ]
        },
        {
          "name": "stderr",
          "output_type": "stream",
          "text": [
            "Training Epoch 28/100: 100%|██████████| 938/938 [00:07<00:00, 127.75it/s]\n",
            "                                                              \r"
          ]
        },
        {
          "name": "stdout",
          "output_type": "stream",
          "text": [
            "Epoch 28/100 | Train Loss: 0.4585 | Train Acc: 0.8065 | Val Loss: 0.4554 | Val Acc: 0.8022\n"
          ]
        },
        {
          "name": "stderr",
          "output_type": "stream",
          "text": [
            "Training Epoch 29/100: 100%|██████████| 938/938 [00:06<00:00, 135.71it/s]\n",
            "                                                              \r"
          ]
        },
        {
          "name": "stdout",
          "output_type": "stream",
          "text": [
            "Epoch 29/100 | Train Loss: 0.4564 | Train Acc: 0.8074 | Val Loss: 0.4886 | Val Acc: 0.7929\n"
          ]
        },
        {
          "name": "stderr",
          "output_type": "stream",
          "text": [
            "Training Epoch 30/100: 100%|██████████| 938/938 [00:06<00:00, 135.38it/s]\n",
            "                                                              \r"
          ]
        },
        {
          "name": "stdout",
          "output_type": "stream",
          "text": [
            "Epoch 30/100 | Train Loss: 0.4457 | Train Acc: 0.8136 | Val Loss: 0.5690 | Val Acc: 0.7586\n"
          ]
        },
        {
          "name": "stderr",
          "output_type": "stream",
          "text": [
            "Training Epoch 31/100: 100%|██████████| 938/938 [00:06<00:00, 135.90it/s]\n",
            "                                                              \r"
          ]
        },
        {
          "name": "stdout",
          "output_type": "stream",
          "text": [
            "Epoch 31/100 | Train Loss: 0.4428 | Train Acc: 0.8167 | Val Loss: 0.5345 | Val Acc: 0.7812\n"
          ]
        },
        {
          "name": "stderr",
          "output_type": "stream",
          "text": [
            "Training Epoch 32/100: 100%|██████████| 938/938 [00:06<00:00, 137.12it/s]\n",
            "                                                              \r"
          ]
        },
        {
          "name": "stdout",
          "output_type": "stream",
          "text": [
            "Epoch 32/100 | Train Loss: 0.4331 | Train Acc: 0.8195 | Val Loss: 0.4553 | Val Acc: 0.8098\n"
          ]
        },
        {
          "name": "stderr",
          "output_type": "stream",
          "text": [
            "Training Epoch 33/100: 100%|██████████| 938/938 [00:06<00:00, 148.82it/s]\n",
            "                                                              \r"
          ]
        },
        {
          "name": "stdout",
          "output_type": "stream",
          "text": [
            "Epoch 33/100 | Train Loss: 0.4334 | Train Acc: 0.8193 | Val Loss: 0.4596 | Val Acc: 0.8078\n"
          ]
        },
        {
          "name": "stderr",
          "output_type": "stream",
          "text": [
            "Training Epoch 34/100: 100%|██████████| 938/938 [00:06<00:00, 148.86it/s]\n",
            "                                                              \r"
          ]
        },
        {
          "name": "stdout",
          "output_type": "stream",
          "text": [
            "Epoch 34/100 | Train Loss: 0.4288 | Train Acc: 0.8199 | Val Loss: 0.4695 | Val Acc: 0.7985\n"
          ]
        },
        {
          "name": "stderr",
          "output_type": "stream",
          "text": [
            "Training Epoch 35/100: 100%|██████████| 938/938 [00:06<00:00, 149.00it/s]\n",
            "                                                              \r"
          ]
        },
        {
          "name": "stdout",
          "output_type": "stream",
          "text": [
            "Epoch 35/100 | Train Loss: 0.4174 | Train Acc: 0.8276 | Val Loss: 0.4896 | Val Acc: 0.7985\n"
          ]
        },
        {
          "name": "stderr",
          "output_type": "stream",
          "text": [
            "Training Epoch 36/100: 100%|██████████| 938/938 [00:06<00:00, 148.22it/s]\n",
            "                                                              \r"
          ]
        },
        {
          "name": "stdout",
          "output_type": "stream",
          "text": [
            "Epoch 36/100 | Train Loss: 0.4085 | Train Acc: 0.8329 | Val Loss: 0.4845 | Val Acc: 0.8022\n"
          ]
        },
        {
          "name": "stderr",
          "output_type": "stream",
          "text": [
            "Training Epoch 37/100: 100%|██████████| 938/938 [00:06<00:00, 140.67it/s]\n",
            "                                                              \r"
          ]
        },
        {
          "name": "stdout",
          "output_type": "stream",
          "text": [
            "Epoch 37/100 | Train Loss: 0.4122 | Train Acc: 0.8324 | Val Loss: 0.4459 | Val Acc: 0.8138\n"
          ]
        },
        {
          "name": "stderr",
          "output_type": "stream",
          "text": [
            "Training Epoch 38/100: 100%|██████████| 938/938 [00:06<00:00, 138.79it/s]\n",
            "                                                              \r"
          ]
        },
        {
          "name": "stdout",
          "output_type": "stream",
          "text": [
            "Epoch 38/100 | Train Loss: 0.4094 | Train Acc: 0.8346 | Val Loss: 0.4407 | Val Acc: 0.8062\n"
          ]
        },
        {
          "name": "stderr",
          "output_type": "stream",
          "text": [
            "Training Epoch 39/100: 100%|██████████| 938/938 [00:06<00:00, 140.18it/s]\n",
            "                                                              \r"
          ]
        },
        {
          "name": "stdout",
          "output_type": "stream",
          "text": [
            "Epoch 39/100 | Train Loss: 0.4073 | Train Acc: 0.8319 | Val Loss: 0.4389 | Val Acc: 0.8152\n"
          ]
        },
        {
          "name": "stderr",
          "output_type": "stream",
          "text": [
            "Training Epoch 40/100: 100%|██████████| 938/938 [00:06<00:00, 137.62it/s]\n",
            "                                                              \r"
          ]
        },
        {
          "name": "stdout",
          "output_type": "stream",
          "text": [
            "Epoch 40/100 | Train Loss: 0.4003 | Train Acc: 0.8362 | Val Loss: 0.4683 | Val Acc: 0.8015\n"
          ]
        },
        {
          "name": "stderr",
          "output_type": "stream",
          "text": [
            "Training Epoch 41/100: 100%|██████████| 938/938 [00:06<00:00, 136.18it/s]\n",
            "                                                              \r"
          ]
        },
        {
          "name": "stdout",
          "output_type": "stream",
          "text": [
            "Epoch 41/100 | Train Loss: 0.3931 | Train Acc: 0.8380 | Val Loss: 0.4979 | Val Acc: 0.7979\n"
          ]
        },
        {
          "name": "stderr",
          "output_type": "stream",
          "text": [
            "Training Epoch 42/100: 100%|██████████| 938/938 [00:06<00:00, 136.92it/s]\n",
            "                                                              \r"
          ]
        },
        {
          "name": "stdout",
          "output_type": "stream",
          "text": [
            "Epoch 42/100 | Train Loss: 0.3962 | Train Acc: 0.8370 | Val Loss: 0.4446 | Val Acc: 0.8152\n"
          ]
        },
        {
          "name": "stderr",
          "output_type": "stream",
          "text": [
            "Training Epoch 43/100: 100%|██████████| 938/938 [00:06<00:00, 137.76it/s]\n",
            "                                                              \r"
          ]
        },
        {
          "name": "stdout",
          "output_type": "stream",
          "text": [
            "Epoch 43/100 | Train Loss: 0.3830 | Train Acc: 0.8430 | Val Loss: 0.4103 | Val Acc: 0.8328\n"
          ]
        },
        {
          "name": "stderr",
          "output_type": "stream",
          "text": [
            "Training Epoch 44/100: 100%|██████████| 938/938 [00:06<00:00, 137.92it/s]\n",
            "                                                              \r"
          ]
        },
        {
          "name": "stdout",
          "output_type": "stream",
          "text": [
            "Epoch 44/100 | Train Loss: 0.3810 | Train Acc: 0.8473 | Val Loss: 0.4313 | Val Acc: 0.8142\n"
          ]
        },
        {
          "name": "stderr",
          "output_type": "stream",
          "text": [
            "Training Epoch 45/100: 100%|██████████| 938/938 [00:06<00:00, 146.63it/s]\n",
            "                                                              \r"
          ]
        },
        {
          "name": "stdout",
          "output_type": "stream",
          "text": [
            "Epoch 45/100 | Train Loss: 0.3773 | Train Acc: 0.8481 | Val Loss: 0.4195 | Val Acc: 0.8271\n"
          ]
        },
        {
          "name": "stderr",
          "output_type": "stream",
          "text": [
            "Training Epoch 46/100: 100%|██████████| 938/938 [00:06<00:00, 147.29it/s]\n",
            "                                                              \r"
          ]
        },
        {
          "name": "stdout",
          "output_type": "stream",
          "text": [
            "Epoch 46/100 | Train Loss: 0.3688 | Train Acc: 0.8518 | Val Loss: 0.4682 | Val Acc: 0.8108\n"
          ]
        },
        {
          "name": "stderr",
          "output_type": "stream",
          "text": [
            "Training Epoch 47/100: 100%|██████████| 938/938 [00:06<00:00, 146.46it/s]\n",
            "                                                              \r"
          ]
        },
        {
          "name": "stdout",
          "output_type": "stream",
          "text": [
            "Epoch 47/100 | Train Loss: 0.3729 | Train Acc: 0.8487 | Val Loss: 0.4383 | Val Acc: 0.8158\n"
          ]
        },
        {
          "name": "stderr",
          "output_type": "stream",
          "text": [
            "Training Epoch 48/100: 100%|██████████| 938/938 [00:06<00:00, 145.02it/s]\n",
            "                                                              \r"
          ]
        },
        {
          "name": "stdout",
          "output_type": "stream",
          "text": [
            "Epoch 48/100 | Train Loss: 0.3711 | Train Acc: 0.8507 | Val Loss: 0.4547 | Val Acc: 0.8102\n"
          ]
        },
        {
          "name": "stderr",
          "output_type": "stream",
          "text": [
            "Training Epoch 49/100: 100%|██████████| 938/938 [00:06<00:00, 148.58it/s]\n",
            "                                                              \r"
          ]
        },
        {
          "name": "stdout",
          "output_type": "stream",
          "text": [
            "Epoch 49/100 | Train Loss: 0.3674 | Train Acc: 0.8525 | Val Loss: 0.4265 | Val Acc: 0.8211\n"
          ]
        },
        {
          "name": "stderr",
          "output_type": "stream",
          "text": [
            "Training Epoch 50/100: 100%|██████████| 938/938 [00:06<00:00, 149.08it/s]\n",
            "                                                              \r"
          ]
        },
        {
          "name": "stdout",
          "output_type": "stream",
          "text": [
            "Epoch 50/100 | Train Loss: 0.3578 | Train Acc: 0.8525 | Val Loss: 0.4489 | Val Acc: 0.8162\n"
          ]
        },
        {
          "name": "stderr",
          "output_type": "stream",
          "text": [
            "Training Epoch 51/100: 100%|██████████| 938/938 [00:06<00:00, 148.33it/s]\n",
            "                                                              \r"
          ]
        },
        {
          "name": "stdout",
          "output_type": "stream",
          "text": [
            "Epoch 51/100 | Train Loss: 0.3561 | Train Acc: 0.8606 | Val Loss: 0.4267 | Val Acc: 0.8172\n"
          ]
        },
        {
          "name": "stderr",
          "output_type": "stream",
          "text": [
            "Training Epoch 52/100: 100%|██████████| 938/938 [00:06<00:00, 148.79it/s]\n",
            "                                                              \r"
          ]
        },
        {
          "name": "stdout",
          "output_type": "stream",
          "text": [
            "Epoch 52/100 | Train Loss: 0.3496 | Train Acc: 0.8575 | Val Loss: 0.4265 | Val Acc: 0.8205\n"
          ]
        },
        {
          "name": "stderr",
          "output_type": "stream",
          "text": [
            "Training Epoch 53/100: 100%|██████████| 938/938 [00:06<00:00, 148.86it/s]\n",
            "                                                              \r"
          ]
        },
        {
          "name": "stdout",
          "output_type": "stream",
          "text": [
            "Epoch 53/100 | Train Loss: 0.3417 | Train Acc: 0.8624 | Val Loss: 0.4510 | Val Acc: 0.8172\n"
          ]
        },
        {
          "name": "stderr",
          "output_type": "stream",
          "text": [
            "Training Epoch 54/100: 100%|██████████| 938/938 [00:06<00:00, 148.72it/s]\n",
            "                                                              \r"
          ]
        },
        {
          "name": "stdout",
          "output_type": "stream",
          "text": [
            "Epoch 54/100 | Train Loss: 0.3482 | Train Acc: 0.8611 | Val Loss: 0.4236 | Val Acc: 0.8265\n"
          ]
        },
        {
          "name": "stderr",
          "output_type": "stream",
          "text": [
            "Training Epoch 55/100: 100%|██████████| 938/938 [00:06<00:00, 149.31it/s]\n",
            "                                                              \r"
          ]
        },
        {
          "name": "stdout",
          "output_type": "stream",
          "text": [
            "Epoch 55/100 | Train Loss: 0.3426 | Train Acc: 0.8627 | Val Loss: 0.4491 | Val Acc: 0.8102\n"
          ]
        },
        {
          "name": "stderr",
          "output_type": "stream",
          "text": [
            "Training Epoch 56/100: 100%|██████████| 938/938 [00:06<00:00, 149.58it/s]\n",
            "                                                              \r"
          ]
        },
        {
          "name": "stdout",
          "output_type": "stream",
          "text": [
            "Epoch 56/100 | Train Loss: 0.3361 | Train Acc: 0.8647 | Val Loss: 0.4388 | Val Acc: 0.8198\n"
          ]
        },
        {
          "name": "stderr",
          "output_type": "stream",
          "text": [
            "Training Epoch 57/100: 100%|██████████| 938/938 [00:06<00:00, 149.63it/s]\n",
            "                                                              \r"
          ]
        },
        {
          "name": "stdout",
          "output_type": "stream",
          "text": [
            "Epoch 57/100 | Train Loss: 0.3294 | Train Acc: 0.8687 | Val Loss: 0.4675 | Val Acc: 0.8118\n"
          ]
        },
        {
          "name": "stderr",
          "output_type": "stream",
          "text": [
            "Training Epoch 58/100: 100%|██████████| 938/938 [00:06<00:00, 148.60it/s]\n",
            "                                                              \r"
          ]
        },
        {
          "name": "stdout",
          "output_type": "stream",
          "text": [
            "Epoch 58/100 | Train Loss: 0.3328 | Train Acc: 0.8669 | Val Loss: 0.4073 | Val Acc: 0.8348\n"
          ]
        },
        {
          "name": "stderr",
          "output_type": "stream",
          "text": [
            "Training Epoch 59/100: 100%|██████████| 938/938 [00:06<00:00, 148.88it/s]\n",
            "                                                              \r"
          ]
        },
        {
          "name": "stdout",
          "output_type": "stream",
          "text": [
            "Epoch 59/100 | Train Loss: 0.3240 | Train Acc: 0.8719 | Val Loss: 0.4248 | Val Acc: 0.8195\n"
          ]
        },
        {
          "name": "stderr",
          "output_type": "stream",
          "text": [
            "Training Epoch 60/100: 100%|██████████| 938/938 [00:06<00:00, 139.75it/s]\n",
            "                                                              \r"
          ]
        },
        {
          "name": "stdout",
          "output_type": "stream",
          "text": [
            "Epoch 60/100 | Train Loss: 0.3240 | Train Acc: 0.8730 | Val Loss: 0.4376 | Val Acc: 0.8138\n"
          ]
        },
        {
          "name": "stderr",
          "output_type": "stream",
          "text": [
            "Training Epoch 61/100: 100%|██████████| 938/938 [00:06<00:00, 139.99it/s]\n",
            "                                                              \r"
          ]
        },
        {
          "name": "stdout",
          "output_type": "stream",
          "text": [
            "Epoch 61/100 | Train Loss: 0.3200 | Train Acc: 0.8714 | Val Loss: 0.4229 | Val Acc: 0.8314\n"
          ]
        },
        {
          "name": "stderr",
          "output_type": "stream",
          "text": [
            "Training Epoch 62/100: 100%|██████████| 938/938 [00:06<00:00, 134.58it/s]\n",
            "                                                              \r"
          ]
        },
        {
          "name": "stdout",
          "output_type": "stream",
          "text": [
            "Epoch 62/100 | Train Loss: 0.3193 | Train Acc: 0.8772 | Val Loss: 0.4110 | Val Acc: 0.8311\n"
          ]
        },
        {
          "name": "stderr",
          "output_type": "stream",
          "text": [
            "Training Epoch 63/100: 100%|██████████| 938/938 [00:06<00:00, 135.54it/s]\n",
            "                                                              \r"
          ]
        },
        {
          "name": "stdout",
          "output_type": "stream",
          "text": [
            "Epoch 63/100 | Train Loss: 0.3115 | Train Acc: 0.8754 | Val Loss: 0.4342 | Val Acc: 0.8221\n"
          ]
        },
        {
          "name": "stderr",
          "output_type": "stream",
          "text": [
            "Training Epoch 64/100: 100%|██████████| 938/938 [00:06<00:00, 137.07it/s]\n",
            "                                                              \r"
          ]
        },
        {
          "name": "stdout",
          "output_type": "stream",
          "text": [
            "Epoch 64/100 | Train Loss: 0.3121 | Train Acc: 0.8786 | Val Loss: 0.4006 | Val Acc: 0.8311\n"
          ]
        },
        {
          "name": "stderr",
          "output_type": "stream",
          "text": [
            "Training Epoch 65/100: 100%|██████████| 938/938 [00:06<00:00, 138.46it/s]\n",
            "                                                              \r"
          ]
        },
        {
          "name": "stdout",
          "output_type": "stream",
          "text": [
            "Epoch 65/100 | Train Loss: 0.3031 | Train Acc: 0.8811 | Val Loss: 0.4197 | Val Acc: 0.8344\n"
          ]
        },
        {
          "name": "stderr",
          "output_type": "stream",
          "text": [
            "Training Epoch 66/100: 100%|██████████| 938/938 [00:06<00:00, 134.67it/s]\n",
            "                                                              \r"
          ]
        },
        {
          "name": "stdout",
          "output_type": "stream",
          "text": [
            "Epoch 66/100 | Train Loss: 0.3049 | Train Acc: 0.8837 | Val Loss: 0.4102 | Val Acc: 0.8334\n"
          ]
        },
        {
          "name": "stderr",
          "output_type": "stream",
          "text": [
            "Training Epoch 67/100: 100%|██████████| 938/938 [00:06<00:00, 137.59it/s]\n",
            "                                                              \r"
          ]
        },
        {
          "name": "stdout",
          "output_type": "stream",
          "text": [
            "Epoch 67/100 | Train Loss: 0.2976 | Train Acc: 0.8839 | Val Loss: 0.3991 | Val Acc: 0.8368\n"
          ]
        },
        {
          "name": "stderr",
          "output_type": "stream",
          "text": [
            "Training Epoch 68/100: 100%|██████████| 938/938 [00:06<00:00, 139.56it/s]\n",
            "                                                              \r"
          ]
        },
        {
          "name": "stdout",
          "output_type": "stream",
          "text": [
            "Epoch 68/100 | Train Loss: 0.3009 | Train Acc: 0.8861 | Val Loss: 0.4012 | Val Acc: 0.8371\n"
          ]
        },
        {
          "name": "stderr",
          "output_type": "stream",
          "text": [
            "Training Epoch 69/100: 100%|██████████| 938/938 [00:06<00:00, 136.71it/s]\n",
            "                                                              \r"
          ]
        },
        {
          "name": "stdout",
          "output_type": "stream",
          "text": [
            "Epoch 69/100 | Train Loss: 0.2863 | Train Acc: 0.8903 | Val Loss: 0.4534 | Val Acc: 0.8245\n"
          ]
        },
        {
          "name": "stderr",
          "output_type": "stream",
          "text": [
            "Training Epoch 70/100: 100%|██████████| 938/938 [00:07<00:00, 130.95it/s]\n",
            "                                                              \r"
          ]
        },
        {
          "name": "stdout",
          "output_type": "stream",
          "text": [
            "Epoch 70/100 | Train Loss: 0.2909 | Train Acc: 0.8844 | Val Loss: 0.3847 | Val Acc: 0.8497\n"
          ]
        },
        {
          "name": "stderr",
          "output_type": "stream",
          "text": [
            "Training Epoch 71/100: 100%|██████████| 938/938 [00:07<00:00, 127.93it/s]\n",
            "                                                              \r"
          ]
        },
        {
          "name": "stdout",
          "output_type": "stream",
          "text": [
            "Epoch 71/100 | Train Loss: 0.2903 | Train Acc: 0.8882 | Val Loss: 0.3894 | Val Acc: 0.8391\n"
          ]
        },
        {
          "name": "stderr",
          "output_type": "stream",
          "text": [
            "Training Epoch 72/100: 100%|██████████| 938/938 [00:07<00:00, 130.17it/s]\n",
            "                                                              \r"
          ]
        },
        {
          "name": "stdout",
          "output_type": "stream",
          "text": [
            "Epoch 72/100 | Train Loss: 0.2871 | Train Acc: 0.8877 | Val Loss: 0.5746 | Val Acc: 0.7806\n"
          ]
        },
        {
          "name": "stderr",
          "output_type": "stream",
          "text": [
            "Training Epoch 73/100: 100%|██████████| 938/938 [00:07<00:00, 131.14it/s]\n",
            "                                                              \r"
          ]
        },
        {
          "name": "stdout",
          "output_type": "stream",
          "text": [
            "Epoch 73/100 | Train Loss: 0.2863 | Train Acc: 0.8879 | Val Loss: 0.4254 | Val Acc: 0.8271\n"
          ]
        },
        {
          "name": "stderr",
          "output_type": "stream",
          "text": [
            "Training Epoch 74/100: 100%|██████████| 938/938 [00:07<00:00, 127.14it/s]\n",
            "                                                              \r"
          ]
        },
        {
          "name": "stdout",
          "output_type": "stream",
          "text": [
            "Epoch 74/100 | Train Loss: 0.2773 | Train Acc: 0.8919 | Val Loss: 0.4492 | Val Acc: 0.8255\n"
          ]
        },
        {
          "name": "stderr",
          "output_type": "stream",
          "text": [
            "Training Epoch 75/100: 100%|██████████| 938/938 [00:07<00:00, 126.26it/s]\n",
            "                                                              \r"
          ]
        },
        {
          "name": "stdout",
          "output_type": "stream",
          "text": [
            "Epoch 75/100 | Train Loss: 0.2747 | Train Acc: 0.8902 | Val Loss: 0.4634 | Val Acc: 0.8182\n"
          ]
        },
        {
          "name": "stderr",
          "output_type": "stream",
          "text": [
            "Training Epoch 76/100: 100%|██████████| 938/938 [00:07<00:00, 128.93it/s]\n",
            "                                                              \r"
          ]
        },
        {
          "name": "stdout",
          "output_type": "stream",
          "text": [
            "Epoch 76/100 | Train Loss: 0.2822 | Train Acc: 0.8906 | Val Loss: 0.4150 | Val Acc: 0.8321\n"
          ]
        },
        {
          "name": "stderr",
          "output_type": "stream",
          "text": [
            "Training Epoch 77/100: 100%|██████████| 938/938 [00:07<00:00, 127.00it/s]\n",
            "                                                              \r"
          ]
        },
        {
          "name": "stdout",
          "output_type": "stream",
          "text": [
            "Epoch 77/100 | Train Loss: 0.2734 | Train Acc: 0.8933 | Val Loss: 0.3705 | Val Acc: 0.8467\n"
          ]
        },
        {
          "name": "stderr",
          "output_type": "stream",
          "text": [
            "Training Epoch 78/100: 100%|██████████| 938/938 [00:07<00:00, 133.71it/s]\n",
            "                                                              \r"
          ]
        },
        {
          "name": "stdout",
          "output_type": "stream",
          "text": [
            "Epoch 78/100 | Train Loss: 0.2698 | Train Acc: 0.8923 | Val Loss: 0.4093 | Val Acc: 0.8368\n"
          ]
        },
        {
          "name": "stderr",
          "output_type": "stream",
          "text": [
            "Training Epoch 79/100: 100%|██████████| 938/938 [00:06<00:00, 138.53it/s]\n",
            "                                                              \r"
          ]
        },
        {
          "name": "stdout",
          "output_type": "stream",
          "text": [
            "Epoch 79/100 | Train Loss: 0.2615 | Train Acc: 0.8989 | Val Loss: 0.3932 | Val Acc: 0.8421\n"
          ]
        },
        {
          "name": "stderr",
          "output_type": "stream",
          "text": [
            "Training Epoch 80/100: 100%|██████████| 938/938 [00:06<00:00, 136.44it/s]\n",
            "                                                              \r"
          ]
        },
        {
          "name": "stdout",
          "output_type": "stream",
          "text": [
            "Epoch 80/100 | Train Loss: 0.2598 | Train Acc: 0.8979 | Val Loss: 0.4571 | Val Acc: 0.8271\n"
          ]
        },
        {
          "name": "stderr",
          "output_type": "stream",
          "text": [
            "Training Epoch 81/100: 100%|██████████| 938/938 [00:07<00:00, 133.26it/s]\n",
            "                                                              \r"
          ]
        },
        {
          "name": "stdout",
          "output_type": "stream",
          "text": [
            "Epoch 81/100 | Train Loss: 0.2594 | Train Acc: 0.8984 | Val Loss: 0.3844 | Val Acc: 0.8477\n"
          ]
        },
        {
          "name": "stderr",
          "output_type": "stream",
          "text": [
            "Training Epoch 82/100: 100%|██████████| 938/938 [00:06<00:00, 134.00it/s]\n",
            "                                                              \r"
          ]
        },
        {
          "name": "stdout",
          "output_type": "stream",
          "text": [
            "Epoch 82/100 | Train Loss: 0.2600 | Train Acc: 0.9007 | Val Loss: 0.4026 | Val Acc: 0.8414\n"
          ]
        },
        {
          "name": "stderr",
          "output_type": "stream",
          "text": [
            "Training Epoch 83/100: 100%|██████████| 938/938 [00:06<00:00, 141.20it/s]\n",
            "                                                              \r"
          ]
        },
        {
          "name": "stdout",
          "output_type": "stream",
          "text": [
            "Epoch 83/100 | Train Loss: 0.2609 | Train Acc: 0.8988 | Val Loss: 0.3779 | Val Acc: 0.8511\n"
          ]
        },
        {
          "name": "stderr",
          "output_type": "stream",
          "text": [
            "Training Epoch 84/100: 100%|██████████| 938/938 [00:06<00:00, 144.91it/s]\n",
            "                                                              \r"
          ]
        },
        {
          "name": "stdout",
          "output_type": "stream",
          "text": [
            "Epoch 84/100 | Train Loss: 0.2566 | Train Acc: 0.9025 | Val Loss: 0.4756 | Val Acc: 0.8251\n"
          ]
        },
        {
          "name": "stderr",
          "output_type": "stream",
          "text": [
            "Training Epoch 85/100: 100%|██████████| 938/938 [00:06<00:00, 141.91it/s]\n",
            "                                                              \r"
          ]
        },
        {
          "name": "stdout",
          "output_type": "stream",
          "text": [
            "Epoch 85/100 | Train Loss: 0.2483 | Train Acc: 0.9050 | Val Loss: 0.3794 | Val Acc: 0.8421\n"
          ]
        },
        {
          "name": "stderr",
          "output_type": "stream",
          "text": [
            "Training Epoch 86/100: 100%|██████████| 938/938 [00:06<00:00, 135.49it/s]\n",
            "                                                              \r"
          ]
        },
        {
          "name": "stdout",
          "output_type": "stream",
          "text": [
            "Epoch 86/100 | Train Loss: 0.2427 | Train Acc: 0.9062 | Val Loss: 0.4033 | Val Acc: 0.8404\n"
          ]
        },
        {
          "name": "stderr",
          "output_type": "stream",
          "text": [
            "Training Epoch 87/100: 100%|██████████| 938/938 [00:06<00:00, 143.50it/s]\n",
            "                                                              \r"
          ]
        },
        {
          "name": "stdout",
          "output_type": "stream",
          "text": [
            "Epoch 87/100 | Train Loss: 0.2506 | Train Acc: 0.9011 | Val Loss: 0.4121 | Val Acc: 0.8341\n"
          ]
        },
        {
          "name": "stderr",
          "output_type": "stream",
          "text": [
            "Training Epoch 88/100: 100%|██████████| 938/938 [00:06<00:00, 143.99it/s]\n",
            "                                                              \r"
          ]
        },
        {
          "name": "stdout",
          "output_type": "stream",
          "text": [
            "Epoch 88/100 | Train Loss: 0.2448 | Train Acc: 0.9074 | Val Loss: 0.4004 | Val Acc: 0.8447\n"
          ]
        },
        {
          "name": "stderr",
          "output_type": "stream",
          "text": [
            "Training Epoch 89/100: 100%|██████████| 938/938 [00:06<00:00, 136.16it/s]\n",
            "                                                              \r"
          ]
        },
        {
          "name": "stdout",
          "output_type": "stream",
          "text": [
            "Epoch 89/100 | Train Loss: 0.2446 | Train Acc: 0.9074 | Val Loss: 0.3956 | Val Acc: 0.8447\n"
          ]
        },
        {
          "name": "stderr",
          "output_type": "stream",
          "text": [
            "Training Epoch 90/100: 100%|██████████| 938/938 [00:06<00:00, 139.35it/s]\n",
            "                                                              \r"
          ]
        },
        {
          "name": "stdout",
          "output_type": "stream",
          "text": [
            "Epoch 90/100 | Train Loss: 0.2449 | Train Acc: 0.9074 | Val Loss: 0.3988 | Val Acc: 0.8434\n"
          ]
        },
        {
          "name": "stderr",
          "output_type": "stream",
          "text": [
            "Training Epoch 91/100: 100%|██████████| 938/938 [00:06<00:00, 136.84it/s]\n",
            "                                                              \r"
          ]
        },
        {
          "name": "stdout",
          "output_type": "stream",
          "text": [
            "Epoch 91/100 | Train Loss: 0.2396 | Train Acc: 0.9086 | Val Loss: 0.4292 | Val Acc: 0.8318\n"
          ]
        },
        {
          "name": "stderr",
          "output_type": "stream",
          "text": [
            "Training Epoch 92/100: 100%|██████████| 938/938 [00:06<00:00, 136.17it/s]\n",
            "                                                              \r"
          ]
        },
        {
          "name": "stdout",
          "output_type": "stream",
          "text": [
            "Epoch 92/100 | Train Loss: 0.2392 | Train Acc: 0.9108 | Val Loss: 0.4132 | Val Acc: 0.8418\n"
          ]
        },
        {
          "name": "stderr",
          "output_type": "stream",
          "text": [
            "Training Epoch 93/100: 100%|██████████| 938/938 [00:06<00:00, 137.27it/s]\n",
            "                                                              \r"
          ]
        },
        {
          "name": "stdout",
          "output_type": "stream",
          "text": [
            "Epoch 93/100 | Train Loss: 0.2332 | Train Acc: 0.9129 | Val Loss: 0.3860 | Val Acc: 0.8497\n"
          ]
        },
        {
          "name": "stderr",
          "output_type": "stream",
          "text": [
            "Training Epoch 94/100: 100%|██████████| 938/938 [00:06<00:00, 143.32it/s]\n",
            "                                                              \r"
          ]
        },
        {
          "name": "stdout",
          "output_type": "stream",
          "text": [
            "Epoch 94/100 | Train Loss: 0.2352 | Train Acc: 0.9117 | Val Loss: 0.3859 | Val Acc: 0.8494\n"
          ]
        },
        {
          "name": "stderr",
          "output_type": "stream",
          "text": [
            "Training Epoch 95/100: 100%|██████████| 938/938 [00:06<00:00, 145.51it/s]\n",
            "                                                              \r"
          ]
        },
        {
          "name": "stdout",
          "output_type": "stream",
          "text": [
            "Epoch 95/100 | Train Loss: 0.2357 | Train Acc: 0.9118 | Val Loss: 0.4606 | Val Acc: 0.8261\n"
          ]
        },
        {
          "name": "stderr",
          "output_type": "stream",
          "text": [
            "Training Epoch 96/100: 100%|██████████| 938/938 [00:06<00:00, 141.96it/s]\n",
            "                                                              \r"
          ]
        },
        {
          "name": "stdout",
          "output_type": "stream",
          "text": [
            "Epoch 96/100 | Train Loss: 0.2302 | Train Acc: 0.9118 | Val Loss: 0.4287 | Val Acc: 0.8361\n"
          ]
        },
        {
          "name": "stderr",
          "output_type": "stream",
          "text": [
            "Training Epoch 97/100: 100%|██████████| 938/938 [00:06<00:00, 143.44it/s]\n",
            "                                                              \r"
          ]
        },
        {
          "name": "stdout",
          "output_type": "stream",
          "text": [
            "Epoch 97/100 | Train Loss: 0.2271 | Train Acc: 0.9136 | Val Loss: 0.3909 | Val Acc: 0.8481\n"
          ]
        },
        {
          "name": "stderr",
          "output_type": "stream",
          "text": [
            "Training Epoch 98/100: 100%|██████████| 938/938 [00:06<00:00, 146.72it/s]\n",
            "                                                              \r"
          ]
        },
        {
          "name": "stdout",
          "output_type": "stream",
          "text": [
            "Epoch 98/100 | Train Loss: 0.2268 | Train Acc: 0.9141 | Val Loss: 0.3914 | Val Acc: 0.8401\n"
          ]
        },
        {
          "name": "stderr",
          "output_type": "stream",
          "text": [
            "Training Epoch 99/100: 100%|██████████| 938/938 [00:06<00:00, 147.45it/s]\n",
            "                                                              \r"
          ]
        },
        {
          "name": "stdout",
          "output_type": "stream",
          "text": [
            "Epoch 99/100 | Train Loss: 0.2201 | Train Acc: 0.9148 | Val Loss: 0.3956 | Val Acc: 0.8451\n"
          ]
        },
        {
          "name": "stderr",
          "output_type": "stream",
          "text": [
            "Training Epoch 100/100: 100%|██████████| 938/938 [00:06<00:00, 143.73it/s]\n",
            "                                                              "
          ]
        },
        {
          "name": "stdout",
          "output_type": "stream",
          "text": [
            "Epoch 100/100 | Train Loss: 0.2196 | Train Acc: 0.9178 | Val Loss: 0.3931 | Val Acc: 0.8494\n"
          ]
        },
        {
          "name": "stderr",
          "output_type": "stream",
          "text": [
            "\r"
          ]
        }
      ],
      "source": [
        "model_kernel9 = CNN(kernel_size=9)\n",
        "history_kernel9 = fit(model_kernel9, {'train': trainloader, 'test': testloader}, epochs=100)"
      ]
    },
    {
      "cell_type": "code",
      "execution_count": 174,
      "metadata": {},
      "outputs": [
        {
          "name": "stderr",
          "output_type": "stream",
          "text": [
            "/tmp/ipykernel_2685/1010231979.py:12: MatplotlibDeprecationWarning: The seaborn styles shipped by Matplotlib are deprecated since 3.6, as they no longer correspond to the styles shipped by seaborn. However, they will remain available as 'seaborn-v0_8-<style>'. Alternatively, directly use the seaborn API instead.\n",
            "  plt.style.use('seaborn-darkgrid')\n"
          ]
        },
        {
          "data": {
            "image/png": "[encoded data removed]",
            "text/plain": [
              "<Figure size 1200x600 with 2 Axes>"
            ]
          },
          "metadata": {},
          "output_type": "display_data"
        }
      ],
      "source": [
        "plot_history(history_kernel9)"
      ]
    },
    {
      "cell_type": "code",
      "execution_count": 179,
      "metadata": {},
      "outputs": [],
      "source": [
        "results = evaluate_model(model_kernel9, testloader, selected_classes)"
      ]
    },
    {
      "cell_type": "code",
      "execution_count": 180,
      "metadata": {},
      "outputs": [
        {
          "name": "stdout",
          "output_type": "stream",
          "text": [
            "              precision  recall  f1-score  support\n",
            "cat                0.80    0.80      0.80  1000.00\n",
            "dog                0.84    0.82      0.83  1000.00\n",
            "frog               0.92    0.94      0.93  1000.00\n",
            "accuracy           0.85    0.85      0.85     0.85\n",
            "macro avg          0.85    0.85      0.85  3000.00\n",
            "weighted avg       0.85    0.85      0.85  3000.00\n"
          ]
        }
      ],
      "source": [
        "print(results['classification_report'])"
      ]
    },
    {
      "cell_type": "code",
      "execution_count": 181,
      "metadata": {},
      "outputs": [
        {
          "data": {
            "image/png": "[encoded data removed]",
            "text/plain": [
              "<Figure size 800x600 with 2 Axes>"
            ]
          },
          "metadata": {},
          "output_type": "display_data"
        }
      ],
      "source": [
        "conf_matrix = results['confusion_matrix']\n",
        "\n",
        "plt.figure(figsize=(8, 6))\n",
        "sns.heatmap(conf_matrix, annot=True, fmt=\"d\", cmap='Blues', xticklabels=selected_classes, yticklabels=selected_classes)\n",
        "plt.xlabel('Predicted Label')\n",
        "plt.ylabel('True Label')\n",
        "plt.title('Confusion Matrix')\n",
        "plt.show()"
      ]
    },
    {
      "cell_type": "code",
      "execution_count": 182,
      "metadata": {},
      "outputs": [
        {
          "name": "stdout",
          "output_type": "stream",
          "text": [
            "Model saved as models/cifar10_cnn_kernel9_loss0.39_acc0.85.pth\n"
          ]
        }
      ],
      "source": [
        "model_filename = save_model_with_metrics(model_kernel9, history_kernel9, path=\"models\", filename_prefix=\"cifar10_cnn\", kernel_size=9)"
      ]
    },
    {
      "cell_type": "markdown",
      "metadata": {},
      "source": [
        "# "
      ]
    },
    {
      "cell_type": "code",
      "execution_count": null,
      "metadata": {},
      "outputs": [],
      "source": []
    }
  ],
  "metadata": {
    "accelerator": "GPU",
    "colab": {
      "gpuType": "T4",
      "provenance": []
    },
    "kernelspec": {
      "display_name": "Python 3",
      "name": "python3"
    },
    "language_info": {
      "codemirror_mode": {
        "name": "ipython",
        "version": 3
      },
      "file_extension": ".py",
      "mimetype": "text/x-python",
      "name": "python",
      "nbconvert_exporter": "python",
      "pygments_lexer": "ipython3",
      "version": "3.8.10"
    }
  },
  "nbformat": 4,
  "nbformat_minor": 0
}
